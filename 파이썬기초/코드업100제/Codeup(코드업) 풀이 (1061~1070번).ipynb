{
 "cells": [
  {
   "cell_type": "markdown",
   "metadata": {},
   "source": [
    "## 1061 : [기초-비트단위논리연산] 비트단위로 OR 하여 출력하기(설명)\n",
    "입력된 정수 두 개를 비트단위로 or 연산한 후 그 결과를 정수로 출력해보자.  \n",
    "비트단위(bitwise) 연산자 |(or, vertical bar, 버티컬바)를 사용하면 된다."
   ]
  },
  {
   "cell_type": "code",
   "execution_count": 1,
   "metadata": {},
   "outputs": [
    {
     "name": "stdout",
     "output_type": "stream",
     "text": [
      "3 5\n",
      "7\n"
     ]
    }
   ],
   "source": [
    "a, b = input().split()\n",
    "a = int(a)\n",
    "b = int(b)\n",
    "print(a|b)\n",
    "#적어도 1 포함 => 1"
   ]
  },
  {
   "cell_type": "markdown",
   "metadata": {},
   "source": [
    "## 1062 : [기초-비트단위논리연산] 비트단위로 XOR 하여 출력하기(설명)\n",
    "입력된 정수 두 개를 비트단위로 xor 연산한 후 그 결과를 정수로 출력해보자.  \n",
    "비트단위(bitwise) 연산자 ^(xor, circumflex/caret, 서컴플렉스/카릿)를 사용하면 된다."
   ]
  },
  {
   "cell_type": "code",
   "execution_count": 2,
   "metadata": {},
   "outputs": [
    {
     "name": "stdout",
     "output_type": "stream",
     "text": [
      "3 5\n",
      "6\n"
     ]
    }
   ],
   "source": [
    "a, b = input().split()\n",
    "a = int(a)\n",
    "b = int(b)\n",
    "print(a^b)\n",
    "#다를경우만 1"
   ]
  },
  {
   "cell_type": "markdown",
   "metadata": {},
   "source": [
    "## 1063 : [기초-삼항연산] 두 정수 입력받아 큰 수 출력하기(설명)\n",
    "입력된 두 정수 a, b 중 큰 값을 출력하는 프로그램을 작성해보자.  \n",
    "단, 조건문을 사용하지 않고 3항 연산자 ? 를 사용한다."
   ]
  },
  {
   "cell_type": "code",
   "execution_count": 7,
   "metadata": {},
   "outputs": [
    {
     "name": "stdout",
     "output_type": "stream",
     "text": [
      "123 456\n",
      "456\n"
     ]
    }
   ],
   "source": [
    "a, b = input().split()\n",
    "a = int(a)\n",
    "b = int(b)\n",
    "print(a if a>b else b)\n",
    "# python은 3항 연산자 ? 대신 (a if 조건 else b)를 사용한다."
   ]
  },
  {
   "cell_type": "markdown",
   "metadata": {},
   "source": [
    "## 1064 : [기초-삼항연산] 정수 3개 입력받아 가장 작은 수 출력하기(설명)\n",
    "입력된 세 정수 a, b, c 중 가장 작은 값을 출력하는 프로그램을 작성해보자.  \n",
    "단, 조건문을 사용하지 않고 3항 연산자 ? 를 사용한다."
   ]
  },
  {
   "cell_type": "code",
   "execution_count": 8,
   "metadata": {},
   "outputs": [
    {
     "name": "stdout",
     "output_type": "stream",
     "text": [
      "1 2 3\n",
      "1\n"
     ]
    }
   ],
   "source": [
    "#1\n",
    "a, b, c = input().split()\n",
    "print(min(int(a),int(b),int(c)))"
   ]
  },
  {
   "cell_type": "code",
   "execution_count": 13,
   "metadata": {},
   "outputs": [
    {
     "name": "stdout",
     "output_type": "stream",
     "text": [
      "-1 2 3\n",
      "-1\n"
     ]
    }
   ],
   "source": [
    "#2\n",
    "a = input().split()\n",
    "b = map(int,a)\n",
    "print(min(b))"
   ]
  },
  {
   "cell_type": "markdown",
   "metadata": {},
   "source": [
    "## 1065 : [기초-조건/선택실행구조] 정수 3개 입력받아 짝수만 출력하기(설명)\n",
    "세 정수 a, b, c가 입력되었을 때, 짝수만 출력해보자."
   ]
  },
  {
   "cell_type": "code",
   "execution_count": 19,
   "metadata": {},
   "outputs": [
    {
     "name": "stdout",
     "output_type": "stream",
     "text": [
      "1 2 4\n",
      "2\n",
      "4\n"
     ]
    }
   ],
   "source": [
    "#1\n",
    "a, b, c = map(int,input().split())\n",
    "if a%2 ==0:\n",
    "    print(a)\n",
    "if b%2 ==0:\n",
    "    print(b)\n",
    "if c%2 ==0:\n",
    "    print(c)"
   ]
  },
  {
   "cell_type": "code",
   "execution_count": 1,
   "metadata": {},
   "outputs": [
    {
     "name": "stdout",
     "output_type": "stream",
     "text": [
      "1 2 4\n",
      "2\n",
      "4\n"
     ]
    }
   ],
   "source": [
    "#2 \n",
    "a = map(int,input().split())\n",
    "for i in a:\n",
    "    if i%2 == 0:\n",
    "        print(i)"
   ]
  },
  {
   "cell_type": "markdown",
   "metadata": {},
   "source": [
    "## 1066 : [기초-조건/선택실행구조] 정수 3개 입력받아 짝/홀 출력하기(설명)\n",
    "세 정수 a, b, c가 입력되었을 때, 짝(even)/홀(odd)을 출력해보자."
   ]
  },
  {
   "cell_type": "code",
   "execution_count": 2,
   "metadata": {},
   "outputs": [
    {
     "name": "stdout",
     "output_type": "stream",
     "text": [
      "1 2 3\n",
      "odd\n",
      "even\n",
      "odd\n"
     ]
    }
   ],
   "source": [
    "a = map(int,input().split())\n",
    "for i in a:\n",
    "    if i % 2 == 0:\n",
    "        print(\"even\")\n",
    "    else :\n",
    "        print(\"odd\")"
   ]
  },
  {
   "cell_type": "markdown",
   "metadata": {},
   "source": [
    "## 1067 : [기초-조건/선택실행구조] 정수 1개 입력받아 분석하기(설명)\n",
    "정수 1개가 입력되었을 때, 음(minus)/양(plus)과 짝(even)/홀(odd)을 출력해보자."
   ]
  },
  {
   "cell_type": "code",
   "execution_count": 3,
   "metadata": {},
   "outputs": [
    {
     "name": "stdout",
     "output_type": "stream",
     "text": [
      "-213\n",
      "minus\n",
      "odd\n"
     ]
    }
   ],
   "source": [
    "a = input()\n",
    "a = int(a)\n",
    "if a>0 :\n",
    "    print(\"plus\")\n",
    "elif a<0 :\n",
    "    print(\"minus\")\n",
    "if a%2==0 :\n",
    "    print(\"even\")\n",
    "else :\n",
    "    print(\"odd\")"
   ]
  },
  {
   "cell_type": "markdown",
   "metadata": {},
   "source": [
    "## 1068 : [기초-조건/선택실행구조] 정수 1개 입력받아 평가 출력하기(설명)\n",
    "점수(정수, 0 ~ 100)를 입력받아 평가를 출력해보자."
   ]
  },
  {
   "cell_type": "code",
   "execution_count": 4,
   "metadata": {},
   "outputs": [
    {
     "name": "stdout",
     "output_type": "stream",
     "text": [
      "76\n",
      "B\n"
     ]
    }
   ],
   "source": [
    "a = int(input())\n",
    "if a >= 90 :\n",
    "    print(\"A\")\n",
    "elif a >= 70 :\n",
    "    print(\"B\")\n",
    "elif a >= 40 :\n",
    "    print(\"C\")\n",
    "else :\n",
    "    print(\"D\")"
   ]
  },
  {
   "cell_type": "markdown",
   "metadata": {},
   "source": [
    "## 1069 : [기초-조건/선택실행구조] 평가 입력받아 다르게 출력하기(설명)\n",
    "평가를 문자(A, B, C, D, ...)로 입력받아 내용을 다르게 출력해보자."
   ]
  },
  {
   "cell_type": "code",
   "execution_count": 5,
   "metadata": {},
   "outputs": [
    {
     "name": "stdout",
     "output_type": "stream",
     "text": [
      "B\n",
      "good!!\n"
     ]
    }
   ],
   "source": [
    "#1\n",
    "a=input()\n",
    "if a==\"A\" :\n",
    "    print(\"best!!!\")\n",
    "elif a==\"B\" :\n",
    "    print(\"good!!\")\n",
    "elif a==\"C\" :\n",
    "    print(\"run!\")\n",
    "elif a==\"D\" :\n",
    "    print(\"slowly~\")\n",
    "else :\n",
    "    print(\"what?\")"
   ]
  },
  {
   "cell_type": "code",
   "execution_count": 8,
   "metadata": {},
   "outputs": [
    {
     "name": "stdout",
     "output_type": "stream",
     "text": [
      "dfg\n",
      "what?\n"
     ]
    }
   ],
   "source": [
    "#2\n",
    "x = input()\n",
    "def switch(x):\n",
    "    print({\"A\":\"best!!!\",\"B\":\"good!!\",\"C\":\"run!\",\"D\":\"slowly~\"}.get(x,\"what?\"))\n",
    "switch(x)\n",
    "#* Python에는 switch문이 없기 때문에 dictionary를 이용해 스위치 함수를 만듬"
   ]
  },
  {
   "cell_type": "markdown",
   "metadata": {},
   "source": [
    "## 1070 : [기초-조건/선택실행구조] 월 입력받아 계절 출력하기(설명)\n",
    "월이 입력될 때 계절 이름이 출력되도록 해보자."
   ]
  },
  {
   "cell_type": "code",
   "execution_count": 9,
   "metadata": {},
   "outputs": [
    {
     "name": "stdout",
     "output_type": "stream",
     "text": [
      "12\n",
      "winter\n"
     ]
    }
   ],
   "source": [
    "a = int(input())\n",
    "if a==12 or a==1 or a==2 :\n",
    "    print(\"winter\")\n",
    "elif a==3 or a==4 or a==5 :\n",
    "    print(\"spring\")\n",
    "elif a==6 or a==7 or a==8 :\n",
    "    print(\"summer\")\n",
    "elif a==9 or a==10 or a==11 :\n",
    "    print(\"fall\")"
   ]
  }
 ],
 "metadata": {
  "kernelspec": {
   "display_name": "Python 3",
   "language": "python",
   "name": "python3"
  },
  "language_info": {
   "codemirror_mode": {
    "name": "ipython",
    "version": 3
   },
   "file_extension": ".py",
   "mimetype": "text/x-python",
   "name": "python",
   "nbconvert_exporter": "python",
   "pygments_lexer": "ipython3",
   "version": "3.8.5"
  }
 },
 "nbformat": 4,
 "nbformat_minor": 4
}
