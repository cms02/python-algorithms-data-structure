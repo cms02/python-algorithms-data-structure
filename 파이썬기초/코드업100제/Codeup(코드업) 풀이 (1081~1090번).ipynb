{
 "cells": [
  {
   "cell_type": "markdown",
   "metadata": {},
   "source": [
    "## 1081 : [기초-종합] 주사위를 2개 던지면?(설명)\n",
    "1부터 n까지, 1부터 m까지 숫자가 적힌  \n",
    "서로 다른 주사위 2개를 던졌을 때 나올 수 있는 모든 경우를 출력해보자."
   ]
  },
  {
   "cell_type": "code",
   "execution_count": 2,
   "metadata": {},
   "outputs": [
    {
     "name": "stdout",
     "output_type": "stream",
     "text": [
      "2 3\n",
      "1 1\n",
      "1 2\n",
      "1 3\n",
      "2 1\n",
      "2 2\n",
      "2 3\n"
     ]
    }
   ],
   "source": [
    "a, b = map(int,input().split())\n",
    "for i in range(1,a+1):\n",
    "    for j in range(1,b+1):\n",
    "        print(i,j)"
   ]
  },
  {
   "cell_type": "markdown",
   "metadata": {},
   "source": [
    "## 1082 : [기초-종합] 16진수 구구단?\n",
    "16진수(0, 1, 2, 3, 4, 5, 6, 7, 8, 9, A, B, C, D, E, F)를 배운  \n",
    "영일(01)이는 16진수끼리 곱하는 16진수 구구단?에 대해서 궁금해졌다.  \n",
    "A, B, C, D, E, F 중 하나가 입력될 때,  \n",
    "1부터 F까지 곱한 16진수 구구단의 내용을 출력해보자.  \n",
    "(단, A ~ F 까지만 입력된다.)"
   ]
  },
  {
   "cell_type": "code",
   "execution_count": 25,
   "metadata": {},
   "outputs": [
    {
     "name": "stdout",
     "output_type": "stream",
     "text": [
      "B\n",
      "B*1=B\n",
      "B*2=16\n",
      "B*3=21\n",
      "B*4=2C\n",
      "B*5=37\n",
      "B*6=42\n",
      "B*7=4D\n",
      "B*8=58\n",
      "B*9=63\n",
      "B*A=6E\n",
      "B*B=79\n",
      "B*C=84\n",
      "B*D=8F\n",
      "B*E=9A\n",
      "B*F=A5\n"
     ]
    }
   ],
   "source": [
    "a = int(input(),16)\n",
    "b = hex(a)[2].upper()\n",
    "for i in range(1,16):\n",
    "    c= hex(i)[2:].upper()\n",
    "    d = hex(a*i)[2:].upper()\n",
    "    print(b+\"*\"+c+\"=\"+d)"
   ]
  },
  {
   "cell_type": "markdown",
   "metadata": {},
   "source": [
    "## 1083 : [기초-종합] 3 6 9 게임의 왕이 되자!(설명)\n",
    "3 6 9 게임을 하던 영일이는 3 6 9 게임에서 잦은 실수로 계속해서 벌칙을 받게 되었다.  \n",
    "3 6 9 게임의 왕이 되기 위한 마스터 프로그램을 작성해 보자."
   ]
  },
  {
   "cell_type": "code",
   "execution_count": 26,
   "metadata": {},
   "outputs": [
    {
     "name": "stdout",
     "output_type": "stream",
     "text": [
      "9\n",
      "1 2 X 4 5 X 7 8 X "
     ]
    }
   ],
   "source": [
    "a = int(input())\n",
    "for i in range(1, a+1):\n",
    "    if i%3 == 0:\n",
    "        print(\"X\", end=\" \")\n",
    "    else:\n",
    "        print(i , end=\" \")"
   ]
  },
  {
   "cell_type": "markdown",
   "metadata": {},
   "source": [
    "## 1084 : [기초-종합] 빛 섞어 색 만들기(설명)\n",
    "빨강(red), 초록(green), 파랑(blue) 빛을 섞어\n",
    "여러 가지 빛의 색을 만들어 내려고 한다.  \n",
    "빨강(r), 초록(g), 파랑(b) 각각의 빛의 개수가 주어질 때,  \n",
    "(빛의 강약에 따라 0 ~ n-1 까지 n가지의 빛 색깔을 만들 수 있다.)  \n",
    "주어진 rgb 빛들을 다르게 섞어 만들 수 있는 모든 경우의 조합(r g b)과  \n",
    "총 가짓 수를 계산해보자."
   ]
  },
  {
   "cell_type": "code",
   "execution_count": 28,
   "metadata": {},
   "outputs": [
    {
     "name": "stdout",
     "output_type": "stream",
     "text": [
      "2 2 2\n",
      "0 0 0\n",
      "0 0 1\n",
      "0 1 0\n",
      "0 1 1\n",
      "1 0 0\n",
      "1 0 1\n",
      "1 1 0\n",
      "1 1 1\n",
      "8\n"
     ]
    }
   ],
   "source": [
    "a, b, c = map(int,input().split())\n",
    "count = 0\n",
    "for i in range(0,a):\n",
    "    for j in range(0,b):\n",
    "        for k in range(0,c):\n",
    "            print(i,j,k)\n",
    "            count += 1\n",
    "print(count)"
   ]
  },
  {
   "cell_type": "markdown",
   "metadata": {},
   "source": [
    "## 1085 : [기초-종합] 소리 파일 저장용량 계산하기(설명)\n",
    "소리가 컴퓨터에 저장될 때에는 디지털 데이터화 되어 저장된다.  \n",
    "마이크를 통해 1초에 적게는 수십 번, 많게는 수만 번 소리의 강약을 체크해\n",
    "그 값을 정수값으로 바꾸고, 그 값을 저장해 소리를 파일로 저장할 수 있다.  \n",
    "값을 저장할 때에는 비트를 사용하는 정도에 따라 세세한 녹음 정도를 결정할 수 있고,  \n",
    "좌우(스테레오) 채널로 저장하면 2배… 5.1채널이면 6배의 저장공간이 필요하고,  \n",
    "녹음 시간이 길면 그 만큼 더 많은 저장공간이 필요하다.  \n",
    "1초 동안 마이크로 소리강약을 체크하는 수를 h  \n",
    "(헤르쯔, Hz 는 1초에 몇 번? 체크하는가를 의미한다.)  \n",
    "한 번 체크한 결과를 저장하는 비트 b  \n",
    "(2비트를 사용하면 0 또는 1 두 가지, 16비트를 사용하면 65536가지..)  \n",
    "좌우 등 소리를 저장할 트랙 개수인 채널 c  \n",
    "(모노는 1개, 스테레오는 2개의 트랙으로 저장함을 의미한다.)  \n",
    "녹음할 시간 s가 주어질 때, 필요한 저장 용량을 계산하는 프로그램을 작성해보자."
   ]
  },
  {
   "cell_type": "code",
   "execution_count": 29,
   "metadata": {},
   "outputs": [
    {
     "name": "stdout",
     "output_type": "stream",
     "text": [
      "44100 16 2 10\n",
      "1.7 MB\n"
     ]
    }
   ],
   "source": [
    "h, b, c, s = map(int,input().split())\n",
    "m = (h*b*c*s)/8/1024/1024\n",
    "print(round(m,1),'MB')"
   ]
  },
  {
   "cell_type": "markdown",
   "metadata": {},
   "source": [
    "## 1086 : [기초-종합] 그림 파일 저장용량 계산하기(설명)\n",
    "이미지가 컴퓨터에 저장될 때에도 디지털 데이터화 되어 저장된다.  \n",
    "가장 기본적인 방법으로는 그림을 구성하는 한 점(pixel, 픽셀)의 색상을  \n",
    "빨강(r), 초록(g), 파랑(b)의 3가지의 빛의 세기 값으로 따로 변환하여 저장하는 것인데,  \n",
    "예를 들어 r, g, b 각 색에 대해서 8비트(0~255, 256가지 가능)씩을 사용한다고 하면,\n",
    "\n",
    "한 점의 색상은 3가지 r, g, b의 8비트+8비트+8비트로 총 24비트로 표현해서\n",
    "총 2^24 가지의 서로 다른 빛의 색깔을 사용할 수 있는 것이다.\n",
    "\n",
    "그렇게 저장하는 점을 모아 하나의 큰 이미지를 저장할 수 있게 되는데,\n",
    "1024 * 768 사이즈에 각 점에 대해 24비트로 저장하면 그 이미지를 저장하기 위한\n",
    "저장 용량을 계산할 수 있다.\n",
    "\n",
    "이렇게 이미지의 원래(raw) 데이터를 압축하지 않고 그대로 저장하는 대표적인 이미지 파일이\n",
    "*.bmp 파일이며, 비트로 그림을 구성한다고 하여 비트맵 방식 또는 래스터 방식이라고 한다.\n",
    "\n",
    "이미지의 가로 해상도 w, 세로 해상도 h, 한 픽셀을 저장하기 위한 비트 b 가 주어질 때,\n",
    "압축하지 않고 저장하기 위해 필요한 저장 용량을 계산하는 프로그램을 작성해 보자."
   ]
  },
  {
   "cell_type": "code",
   "execution_count": 3,
   "metadata": {},
   "outputs": [
    {
     "name": "stdout",
     "output_type": "stream",
     "text": [
      "1024 768 24\n",
      "2.25 MB\n"
     ]
    }
   ],
   "source": [
    "w, h, b = map(int,input().split())\n",
    "m = (w*h*b)/8/1024/1024\n",
    "print(\"%.2f MB\" % m)"
   ]
  },
  {
   "cell_type": "markdown",
   "metadata": {},
   "source": [
    "## 1087 : [기초-종합] 여기까지! 이제 그만~(설명)\n",
    "1, 2, 3 ... 을 순서대로 계속 더해나갈 때,\n",
    "그 합이 입력한 정수보다 작을 동안만 계속 더하는 프로그램을 작성해보자.\n",
    "\n",
    "즉, 1부터 n까지 정수를 계속 더한다고 할 때,\n",
    "어디까지 더해야 입력한 수보다 같거나 커지는지 알아보고자 하는 문제이다.\n",
    "\n",
    "하지만, 이번에는 그 때의 합을 출력해야 한다.\n",
    "\n",
    "예를 들어 57을 입력하면\n",
    "1+2+3+...+8+9+10=55에 다시 11을 더해 66이 될 때,\n",
    "그 값 66이 출력되어야 한다."
   ]
  },
  {
   "cell_type": "code",
   "execution_count": 19,
   "metadata": {},
   "outputs": [
    {
     "name": "stdout",
     "output_type": "stream",
     "text": [
      "57\n",
      "66\n"
     ]
    }
   ],
   "source": [
    "a = int(input())\n",
    "s = 0\n",
    "for i in range(1,a+2):\n",
    "    if s >= a:\n",
    "        print(s)\n",
    "        break\n",
    "    s += i"
   ]
  },
  {
   "cell_type": "markdown",
   "metadata": {},
   "source": [
    "## 1088 : [기초-종합] 3의 배수는 통과?(설명)\n",
    "1부터 입력한 정수까지 1씩 증가시켜 출력하는 프로그램을 작성하되,  \n",
    "3의 배수인 경우는 출력하지 않도록 만들어보자."
   ]
  },
  {
   "cell_type": "code",
   "execution_count": 21,
   "metadata": {},
   "outputs": [
    {
     "name": "stdout",
     "output_type": "stream",
     "text": [
      "10\n",
      "1 2 4 5 7 8 10 "
     ]
    }
   ],
   "source": [
    "a = int(input())\n",
    "for i in range(1, a+1):\n",
    "    if i%3 ==0:\n",
    "        continue\n",
    "    else:\n",
    "        print(i,end=\" \")"
   ]
  },
  {
   "cell_type": "markdown",
   "metadata": {},
   "source": [
    "## 1089 : [기초-종합] 수 나열하기1\n",
    "시작 값(a), 등차(d), 몇 번째인지를 나타내는 정수(n)가 입력될 때  \n",
    "n번째 수를 출력하는 프로그램을 만들어보자."
   ]
  },
  {
   "cell_type": "code",
   "execution_count": 23,
   "metadata": {},
   "outputs": [
    {
     "name": "stdout",
     "output_type": "stream",
     "text": [
      "1 3 5\n",
      "13\n"
     ]
    }
   ],
   "source": [
    "a, d, n = map(int,input().split())\n",
    "for i in range(1,n+1):\n",
    "    y = a+(i-1)*d\n",
    "print(y)"
   ]
  },
  {
   "cell_type": "markdown",
   "metadata": {},
   "source": [
    "## 1090 : [기초-종합] 수 나열하기2\n",
    "어떤 규칙에 따라 수를 순서대로 나열한 것을 수열이라고 한다.  \n",
    "시작 값(a), 등비(r), 몇 번째인지를 나타내는 정수(n)가 입력될 때  \n",
    "n번째 수를 출력하는 프로그램을 만들어보자."
   ]
  },
  {
   "cell_type": "code",
   "execution_count": 25,
   "metadata": {},
   "outputs": [
    {
     "name": "stdout",
     "output_type": "stream",
     "text": [
      "2 3 7\n",
      "1458\n"
     ]
    }
   ],
   "source": [
    "a, r, n = map(int,input().split())\n",
    "for i in range(1,n+1):\n",
    "    y = a*r**(i-1)\n",
    "print(y)"
   ]
  }
 ],
 "metadata": {
  "kernelspec": {
   "display_name": "Python 3",
   "language": "python",
   "name": "python3"
  }
 },
 "nbformat": 4,
 "nbformat_minor": 4
}
