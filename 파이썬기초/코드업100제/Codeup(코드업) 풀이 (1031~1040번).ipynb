{
 "cells": [
  {
   "cell_type": "markdown",
   "metadata": {},
   "source": [
    "## 1031 : [기초-출력변환] 10진 정수 1개 입력받아 8진수로 출력하기(설명)\n",
    "10진수를 입력받아 8진수(octal)로 출력해보자."
   ]
  },
  {
   "cell_type": "code",
   "execution_count": 5,
   "metadata": {},
   "outputs": [
    {
     "name": "stdout",
     "output_type": "stream",
     "text": [
      "10\n",
      "12\n"
     ]
    }
   ],
   "source": [
    "a = input()\n",
    "print(\"%o\" % int(a))"
   ]
  },
  {
   "cell_type": "markdown",
   "metadata": {},
   "source": [
    "## 1032 : [기초-출력변환] 10진 정수 입력받아 16진수로 출력하기1(설명)\n",
    "10진수를 입력받아 16진수(hexadecimal)로 출력해보자."
   ]
  },
  {
   "cell_type": "code",
   "execution_count": 7,
   "metadata": {},
   "outputs": [
    {
     "name": "stdout",
     "output_type": "stream",
     "text": [
      "255\n",
      "ff\n"
     ]
    }
   ],
   "source": [
    "a = input()\n",
    "print(\"%x\" % int(a))"
   ]
  },
  {
   "cell_type": "markdown",
   "metadata": {},
   "source": [
    "## 1033 : [기초-출력변환] 10진 정수 입력받아 16진수로 출력하기2(설명)\n",
    "10진수를 입력받아 16진수(hexadecimal)로 출력해보자."
   ]
  },
  {
   "cell_type": "code",
   "execution_count": 8,
   "metadata": {},
   "outputs": [
    {
     "name": "stdout",
     "output_type": "stream",
     "text": [
      "255\n",
      "FF\n"
     ]
    }
   ],
   "source": [
    "a = input()\n",
    "print(\"%X\" % int(a)) #대문자로"
   ]
  },
  {
   "cell_type": "markdown",
   "metadata": {},
   "source": [
    "## 1034 : [기초-출력변환] 8진 정수 1개 입력받아 10진수로 출력하기(설명)\n",
    "8진수로 입력된 정수 1개를 10진수로 바꾸어 출력해보자."
   ]
  },
  {
   "cell_type": "code",
   "execution_count": 10,
   "metadata": {},
   "outputs": [
    {
     "name": "stdout",
     "output_type": "stream",
     "text": [
      "12\n",
      "10\n"
     ]
    }
   ],
   "source": [
    "a = input()\n",
    "print(int(a,8))"
   ]
  },
  {
   "cell_type": "markdown",
   "metadata": {},
   "source": [
    "## 1035 : [기초-출력변환] 16진 정수 1개 입력받아 8진수로 출력하기(설명)\n",
    "16진수로 입력된 정수 1개를 8진수로 바꾸어 출력해보자."
   ]
  },
  {
   "cell_type": "code",
   "execution_count": 11,
   "metadata": {},
   "outputs": [
    {
     "name": "stdout",
     "output_type": "stream",
     "text": [
      "f\n",
      "17\n"
     ]
    }
   ],
   "source": [
    "a = input()\n",
    "print(\"%o\" % int(a,16))"
   ]
  },
  {
   "cell_type": "markdown",
   "metadata": {},
   "source": [
    "## 1036 : [기초-출력변환] 영문자 1개 입력받아 10진수로 출력하기(설명)\n",
    "영문자 1개를 입력받아 아스키 코드표의 10진수 값으로 출력해보자."
   ]
  },
  {
   "cell_type": "code",
   "execution_count": 13,
   "metadata": {},
   "outputs": [
    {
     "name": "stdout",
     "output_type": "stream",
     "text": [
      "a\n",
      "97\n"
     ]
    }
   ],
   "source": [
    "a = input()\n",
    "a = ord(a) #ord()  문자의 아스키 코드 값을 돌려주는 함수\n",
    "print(a)"
   ]
  },
  {
   "cell_type": "markdown",
   "metadata": {},
   "source": [
    "## 1037 : [기초-출력변환] 정수 입력받아 아스키 문자로 출력하기\n",
    "10진 정수 1개를 입력받아 아스키 문자로 출력해보자.\n",
    "단, 0 ~ 255 범위의 정수만 입력된다."
   ]
  },
  {
   "cell_type": "code",
   "execution_count": 18,
   "metadata": {},
   "outputs": [
    {
     "name": "stdout",
     "output_type": "stream",
     "text": [
      "65\n",
      "A\n"
     ]
    }
   ],
   "source": [
    "a = input()\n",
    "a= int(a)\n",
    "a = chr(a)\n",
    "print(a)"
   ]
  },
  {
   "cell_type": "markdown",
   "metadata": {},
   "source": [
    "## 1038 : [기초-산술연산] 정수 2개 입력받아 합 출력하기1(설명)  \n",
    "정수 2개를 입력받아 합을 출력하는 프로그램을 작성해보자.\n",
    "(단, 입력되는 정수는 -1073741824 ~ 1073741824 이다.)  "
   ]
  },
  {
   "cell_type": "code",
   "execution_count": 19,
   "metadata": {},
   "outputs": [
    {
     "name": "stdout",
     "output_type": "stream",
     "text": [
      "-2 2\n",
      "0\n"
     ]
    }
   ],
   "source": [
    "a, b = input().split()\n",
    "a = int(a)\n",
    "b=  int(b)\n",
    "print(a+b)"
   ]
  },
  {
   "cell_type": "markdown",
   "metadata": {},
   "source": [
    "## 1039 : [기초-산술연산] 정수 2개 입력받아 합 출력하기2(설명)\n",
    "정수 2개를 입력받아 합을 출력해보자.\n",
    "단, 입력되는 정수는 -2147483648 ~ +2147483648 이다."
   ]
  },
  {
   "cell_type": "code",
   "execution_count": 20,
   "metadata": {},
   "outputs": [
    {
     "name": "stdout",
     "output_type": "stream",
     "text": [
      "-2 2\n",
      "0\n"
     ]
    }
   ],
   "source": [
    "a, b = input().split()\n",
    "a = int(a)\n",
    "b=  int(b)\n",
    "print(a+b)"
   ]
  },
  {
   "cell_type": "markdown",
   "metadata": {},
   "source": [
    "## 1040 : [기초-산술연산] 정수 1개 입력받아 부호 바꿔 출력하기(설명)\n",
    "입력된 정수의 부호를 바꿔 출력해보자.\n",
    "단, -2147483647 ~ +2147483647 범위의 정수가 입력된다."
   ]
  },
  {
   "cell_type": "code",
   "execution_count": 21,
   "metadata": {},
   "outputs": [
    {
     "name": "stdout",
     "output_type": "stream",
     "text": [
      "4\n",
      "-4\n"
     ]
    }
   ],
   "source": [
    "a = input()\n",
    "a = int(a)\n",
    "print(-a)"
   ]
  }
 ],
 "metadata": {
  "kernelspec": {
   "display_name": "Python 3",
   "language": "python",
   "name": "python3"
  },
  "language_info": {
   "codemirror_mode": {
    "name": "ipython",
    "version": 3
   },
   "file_extension": ".py",
   "mimetype": "text/x-python",
   "name": "python",
   "nbconvert_exporter": "python",
   "pygments_lexer": "ipython3",
   "version": "3.8.5"
  }
 },
 "nbformat": 4,
 "nbformat_minor": 4
}
