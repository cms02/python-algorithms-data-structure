{
 "cells": [
  {
   "cell_type": "markdown",
   "metadata": {},
   "source": [
    "## 1041 : [기초-산술연산] 문자 1개 입력받아 다음 문자 출력하기(설명)\n",
    "영문자 1개를 입력받아 그 다음 문자를 출력해보자.\n",
    "\n",
    "영문자 'A'의 다음 문자는 'B'이고, 영문자 '0'의 다음 문자는 '1'이다."
   ]
  },
  {
   "cell_type": "code",
   "execution_count": 3,
   "metadata": {},
   "outputs": [
    {
     "name": "stdout",
     "output_type": "stream",
     "text": [
      "A\n",
      "B\n"
     ]
    }
   ],
   "source": [
    "a = input()\n",
    "b = ord(a)+1\n",
    "c= chr(b)\n",
    "print(c)"
   ]
  },
  {
   "cell_type": "markdown",
   "metadata": {},
   "source": [
    "## 1042 : [기초-산술연산] 정수 2개 입력받아 나눈 몫 출력하기(설명)\n",
    "정수 2개(a, b) 를 입력받아 a를 b로 나눈 몫을 출력해보자.\n",
    "단, -2147483648 <= a <= b <= +2147483647, b는 0이 아니다."
   ]
  },
  {
   "cell_type": "code",
   "execution_count": 4,
   "metadata": {},
   "outputs": [
    {
     "name": "stdout",
     "output_type": "stream",
     "text": [
      "3 2\n",
      "1\n"
     ]
    }
   ],
   "source": [
    "a, b = input().split()\n",
    "a= int(a)\n",
    "b= int(b)\n",
    "print(a//b)"
   ]
  },
  {
   "cell_type": "markdown",
   "metadata": {},
   "source": [
    "## 1043 : [기초-산술연산] 정수 2개 입력받아 나눈 나머지 출력하기(설명)\n",
    "정수 2개(a, b) 를 입력받아 a를 b로 나눈 나머지를 출력해보자.\n",
    "단, 0 <= a, b <= +2147483647, b는 0이 아니다."
   ]
  },
  {
   "cell_type": "code",
   "execution_count": 5,
   "metadata": {},
   "outputs": [
    {
     "name": "stdout",
     "output_type": "stream",
     "text": [
      "10 3\n",
      "1\n"
     ]
    }
   ],
   "source": [
    "a, b = input().split()\n",
    "a= int(a)\n",
    "b= int(b)\n",
    "print(a%b)"
   ]
  },
  {
   "cell_type": "markdown",
   "metadata": {},
   "source": [
    "## 1044 : [기초-산술연산] 정수 1개 입력받아 1 더해 출력하기(설명)\n",
    "정수를 1개 입력받아 1만큼 더해 출력해보자.\n",
    "단, -2147483648 ~ +2147483647 의 범위로 입력된다.\n"
   ]
  },
  {
   "cell_type": "code",
   "execution_count": 7,
   "metadata": {},
   "outputs": [
    {
     "name": "stdout",
     "output_type": "stream",
     "text": [
      "123\n",
      "124\n"
     ]
    }
   ],
   "source": [
    "a = input()\n",
    "b = int(a)+1\n",
    "print(b)"
   ]
  },
  {
   "cell_type": "markdown",
   "metadata": {},
   "source": [
    "## 1045 : [기초-산술연산] 정수 2개 입력받아 자동 계산하기\n",
    "정수 2개(a, b)를 입력받아 합, 차, 곱, 몫, 나머지, 나눈 값을 자동으로 계산해보자.\n",
    "단 0 <= a, b <= 2147483647, b는 0이 아니다.\n"
   ]
  },
  {
   "cell_type": "code",
   "execution_count": 20,
   "metadata": {},
   "outputs": [
    {
     "name": "stdout",
     "output_type": "stream",
     "text": [
      "10 3\n",
      "13\n",
      "7\n",
      "30\n",
      "3\n",
      "1\n",
      "3.33\n"
     ]
    }
   ],
   "source": [
    "a, b = input().split()\n",
    "a= int(a)\n",
    "b= int(b)\n",
    "print(a+b)\n",
    "print(a-b)\n",
    "print(a*b)\n",
    "print(a//b)\n",
    "print(a%b)\n",
    "print(\"%.2f\" % (a/b))"
   ]
  },
  {
   "cell_type": "markdown",
   "metadata": {},
   "source": [
    "## 1046 : [기초-산술연산] 정수 3개 입력받아 합과 평균 출력하기\n",
    "정수 3개를 입력받아 합과 평균을 출력해보자.\n",
    "단, -2147483648 ~ +2147483647"
   ]
  },
  {
   "cell_type": "code",
   "execution_count": 2,
   "metadata": {},
   "outputs": [
    {
     "name": "stdout",
     "output_type": "stream",
     "text": [
      "1 2 3\n",
      "6\n",
      "2.0\n"
     ]
    }
   ],
   "source": [
    "a, b, c = input().split()\n",
    "a = int(a)\n",
    "b = int(b)\n",
    "c = int(c)\n",
    "print(a+b+c)\n",
    "print(\"%.1f\" % ((a+b+c)/3))"
   ]
  },
  {
   "cell_type": "markdown",
   "metadata": {},
   "source": [
    "## 1047 : [기초-비트시프트연산] 정수 1개 입력받아 2배 곱해 출력하기(설명)\n",
    "정수 1개를 입력받아 2배 곱해 출력해보자."
   ]
  },
  {
   "cell_type": "code",
   "execution_count": 7,
   "metadata": {},
   "outputs": [
    {
     "name": "stdout",
     "output_type": "stream",
     "text": [
      "2\n",
      "4\n"
     ]
    }
   ],
   "source": [
    "a = input()\n",
    "a = int(a)\n",
    "print(a<<1)"
   ]
  },
  {
   "cell_type": "markdown",
   "metadata": {},
   "source": [
    "## 1048 : [기초-비트시프트연산] 한 번에 2의 거듭제곱 배로 출력하기(설명)\n",
    "정수 2개(a, b)를 입력받아 a를 2^b배 곱한 값으로 출력해보자.\n",
    "0 <= a <= 10, 0 <= b <= 10"
   ]
  },
  {
   "cell_type": "code",
   "execution_count": 11,
   "metadata": {},
   "outputs": [
    {
     "name": "stdout",
     "output_type": "stream",
     "text": [
      "1 3\n",
      "8\n"
     ]
    }
   ],
   "source": [
    "a, b = input().split()\n",
    "a = int(a)\n",
    "b = int(b)\n",
    "print(a<<b)"
   ]
  },
  {
   "cell_type": "markdown",
   "metadata": {},
   "source": [
    "## 1049 : [기초-비교연산] 두 정수 입력받아 비교하기1(설명)\n",
    "두 정수(a, b)를 입력받아\n",
    "\n",
    "a가 b보다 크면 1을, a가 b보다 작거나 같으면 0을 출력하는 프로그램을 작성해보자."
   ]
  },
  {
   "cell_type": "code",
   "execution_count": null,
   "metadata": {},
   "outputs": [],
   "source": []
  },
  {
   "cell_type": "code",
   "execution_count": 1,
   "metadata": {},
   "outputs": [
    {
     "name": "stdout",
     "output_type": "stream",
     "text": [
      "1 2\n",
      "0\n"
     ]
    }
   ],
   "source": [
    "#1\n",
    "a, b = input().split()\n",
    "a = int(a)\n",
    "b = int(b)\n",
    "if a>b:\n",
    "    print(1)\n",
    "elif a<=b:\n",
    "    print(0)"
   ]
  },
  {
   "cell_type": "code",
   "execution_count": 2,
   "metadata": {},
   "outputs": [
    {
     "name": "stdout",
     "output_type": "stream",
     "text": [
      "1 2\n",
      "0\n"
     ]
    }
   ],
   "source": [
    "#2\n",
    "a,b=input().split()\n",
    "x=int(a)\n",
    "y=int(b)\n",
    "z=int(x>y)\n",
    "print(z)"
   ]
  },
  {
   "cell_type": "markdown",
   "metadata": {},
   "source": [
    "## 1050 : [기초-비교연산] 두 정수 입력받아 비교하기2(설명)\n",
    "두 정수(a, b)를 입력받아\n",
    "a와 b가 같으면 1을, 같지 않으면 0을 출력하는 프로그램을 작성해보자."
   ]
  },
  {
   "cell_type": "code",
   "execution_count": 3,
   "metadata": {},
   "outputs": [
    {
     "name": "stdout",
     "output_type": "stream",
     "text": [
      "0 0\n",
      "1\n"
     ]
    }
   ],
   "source": [
    "a, b = input().split()\n",
    "a = int(a)\n",
    "b = int(b)\n",
    "if a==b:\n",
    "    print(1)\n",
    "else :\n",
    "    print(0)"
   ]
  }
 ],
 "metadata": {
  "kernelspec": {
   "display_name": "Python 3",
   "language": "python",
   "name": "python3"
  },
  "language_info": {
   "codemirror_mode": {
    "name": "ipython",
    "version": 3
   },
   "file_extension": ".py",
   "mimetype": "text/x-python",
   "name": "python",
   "nbconvert_exporter": "python",
   "pygments_lexer": "ipython3",
   "version": "3.8.5"
  }
 },
 "nbformat": 4,
 "nbformat_minor": 4
}
