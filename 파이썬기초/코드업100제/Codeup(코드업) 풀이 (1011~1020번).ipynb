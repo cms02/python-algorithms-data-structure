{
 "cells": [
  {
   "cell_type": "markdown",
   "metadata": {},
   "source": [
    "## 1011 : [기초-입출력] 문자 1개 입력받아 그대로 출력하기(설명)\n",
    "문자형(char)으로 변수를 하나 선언하고, 변수에 문자를 저장한 후\n",
    "변수에 저장되어 있는 문자를 그대로 출력해보자."
   ]
  },
  {
   "cell_type": "code",
   "execution_count": 4,
   "metadata": {},
   "outputs": [
    {
     "name": "stdout",
     "output_type": "stream",
     "text": [
      "a\n",
      "a\n"
     ]
    }
   ],
   "source": [
    "a = input()\n",
    "print(a)"
   ]
  },
  {
   "cell_type": "markdown",
   "metadata": {},
   "source": [
    "## 1012 : [기초-입출력] 실수 1개 입력받아 그대로 출력하기(설명)\n",
    "실수형(float)로 변수를 선언하고 그 변수에 실수값을 저장한 후\n",
    "저장되어 있는 실수값을 출력해보자."
   ]
  },
  {
   "cell_type": "code",
   "execution_count": 2,
   "metadata": {},
   "outputs": [
    {
     "name": "stdout",
     "output_type": "stream",
     "text": [
      "3\n",
      "3.000000\n"
     ]
    }
   ],
   "source": [
    "a = input()\n",
    "a = float(a)\n",
    "print(\"%f\" % a)"
   ]
  },
  {
   "cell_type": "markdown",
   "metadata": {},
   "source": [
    "## 1013 : [기초-입출력] 정수 2개 입력받아 그대로 출력하기(설명)\n",
    "정수(int) 2개를 입력받아 그대로 출력해보자."
   ]
  },
  {
   "cell_type": "code",
   "execution_count": 1,
   "metadata": {},
   "outputs": [
    {
     "name": "stdout",
     "output_type": "stream",
     "text": [
      "2 3\n",
      "2 3\n"
     ]
    }
   ],
   "source": [
    "a,b = input().split()\n",
    "m=int(a)\n",
    "n=int(b)\n",
    "print(m,n)"
   ]
  },
  {
   "cell_type": "markdown",
   "metadata": {},
   "source": [
    "## 1014 : [기초-입출력] 문자 2개 입력받아 순서 바꿔 출력하기(설명)\n",
    "2개의 문자(ASCII CODE)를 입력받아서 순서를 바꿔 출력해보자."
   ]
  },
  {
   "cell_type": "code",
   "execution_count": 3,
   "metadata": {},
   "outputs": [
    {
     "name": "stdout",
     "output_type": "stream",
     "text": [
      "a B\n",
      "B a\n"
     ]
    }
   ],
   "source": [
    "a, b=input().split()\n",
    "print(b,a)"
   ]
  },
  {
   "cell_type": "markdown",
   "metadata": {},
   "source": [
    "## 1015 : [기초-입출력] 실수 입력받아 둘째 자리까지 출력하기(설명)\n",
    "\n",
    "실수(float) 1개를 입력받아 저장한 후,\n",
    "저장되어 있는 값을 소수점 셋 째 자리에서 반올림하여\n",
    "소수점 이하 둘 째 자리까지 출력하시오."
   ]
  },
  {
   "cell_type": "code",
   "execution_count": 6,
   "metadata": {},
   "outputs": [
    {
     "name": "stdout",
     "output_type": "stream",
     "text": [
      "2.2222\n",
      "2.22\n"
     ]
    }
   ],
   "source": [
    "a = input()\n",
    "a = float(a)\n",
    "print(\"%.2f\" % a)"
   ]
  },
  {
   "cell_type": "markdown",
   "metadata": {},
   "source": [
    "## 1017 : [기초-입출력] 정수 1개 입력받아 3번 출력하기(설명)\n",
    "int형 정수 1개를 입력받아 공백을 사이에 두고 3번 출력해보자."
   ]
  },
  {
   "cell_type": "code",
   "execution_count": 7,
   "metadata": {},
   "outputs": [
    {
     "name": "stdout",
     "output_type": "stream",
     "text": [
      "1\n",
      "1 1 1\n"
     ]
    }
   ],
   "source": [
    "a = int(input())\n",
    "print(a,a,a)"
   ]
  },
  {
   "cell_type": "markdown",
   "metadata": {},
   "source": [
    "## 1018 : [기초-입출력] 시간 입력받아 그대로 출력하기(설명)\n",
    "어떤 형식에 맞추어 시간이 입력될 때, 그대로 출력하는 연습을 해보자.\n",
    "\n",
    "입력 : 시(hour)와 분(minute)이 \":\" 으로 구분되어 입력된다.  \n",
    "출력 : 입력받은 시간을 \"시:분\" 형식으로 출력한다."
   ]
  },
  {
   "cell_type": "code",
   "execution_count": 1,
   "metadata": {},
   "outputs": [
    {
     "name": "stdout",
     "output_type": "stream",
     "text": [
      "15:15\n",
      "15:15\n"
     ]
    }
   ],
   "source": [
    "hour, minute = input().split(\":\")\n",
    "print(hour, minute, sep=\":\")"
   ]
  },
  {
   "cell_type": "markdown",
   "metadata": {},
   "source": [
    "## 1019 : [기초-입출력] 연월일 입력받아 그대로 출력하기\n",
    "년, 월, 일을 입력받아 지정된 형식으로 출력하는 연습을 해보자.  \n",
    "\n",
    "입력 : 연, 월, 일이 \".(닷)\"으로 구분되어 입력된다.  \n",
    "출력 : 입력받은 연, 월, 일을 yyyy.mm.dd 형식으로 출력한다.\n",
    "(%02d를 사용하면 2칸을 사용해 출력하는데, 한 자리 수인 경우 앞에 0을 붙여 출력한다.)"
   ]
  },
  {
   "cell_type": "code",
   "execution_count": 2,
   "metadata": {},
   "outputs": [
    {
     "name": "stdout",
     "output_type": "stream",
     "text": [
      "1994.2.28\n",
      "1994.02.28\n"
     ]
    }
   ],
   "source": [
    "#1\n",
    "year, month, day = input().split(\".\")\n",
    "print(year.zfill(4), month.zfill(2),day.zfill(2), sep=\".\")"
   ]
  },
  {
   "cell_type": "code",
   "execution_count": 3,
   "metadata": {},
   "outputs": [
    {
     "name": "stdout",
     "output_type": "stream",
     "text": [
      "1994.2.28\n",
      "1994.02.28\n"
     ]
    }
   ],
   "source": [
    "#2\n",
    "year, month, day = input().split(\".\")\n",
    "print(\"%04d\" % int(year),end=\".\")\n",
    "print(\"%02d\" % int(month),end=\".\")\n",
    "print(\"%02d\" % int(day))"
   ]
  },
  {
   "cell_type": "markdown",
   "metadata": {},
   "source": [
    "## 1020 : [기초-입출력] 주민번호 입력받아 형태 바꿔 출력하기\n",
    "주민번호는 다음과 같이 구성된다.\n",
    "\n",
    "XXXXXX-XXXXXXX\n",
    "\n",
    "앞의 6자리는 생년월일(yymmdd)이고 뒤 7자리는 성별, 지역, 오류검출코드이다.\n",
    "주민번호를 입력받아 형태를 바꿔 출력해보자.\n",
    "\n",
    "입력 : 주민번호 앞 6자리와 뒷 7자리가 '-'로 구분되어 입력된다.\n",
    "(입력값은 가상의 주민번호이다.)\n",
    "ex)110011-0000000  \n",
    "\n",
    "출력 : '-'를 제외한 주민번호 13자리를 모두 붙여 출력한다."
   ]
  },
  {
   "cell_type": "code",
   "execution_count": 4,
   "metadata": {},
   "outputs": [
    {
     "name": "stdout",
     "output_type": "stream",
     "text": [
      "123123-1111111\n",
      "1231231111111\n"
     ]
    }
   ],
   "source": [
    "a,b = input().split(\"-\")\n",
    "print(a+b)"
   ]
  }
 ],
 "metadata": {
  "kernelspec": {
   "display_name": "Python 3",
   "language": "python",
   "name": "python3"
  },
  "language_info": {
   "codemirror_mode": {
    "name": "ipython",
    "version": 3
   },
   "file_extension": ".py",
   "mimetype": "text/x-python",
   "name": "python",
   "nbconvert_exporter": "python",
   "pygments_lexer": "ipython3",
   "version": "3.8.5"
  }
 },
 "nbformat": 4,
 "nbformat_minor": 4
}
