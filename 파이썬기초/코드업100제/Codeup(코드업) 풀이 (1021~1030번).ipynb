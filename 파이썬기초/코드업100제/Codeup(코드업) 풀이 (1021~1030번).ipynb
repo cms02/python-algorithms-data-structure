{
 "cells": [
  {
   "cell_type": "markdown",
   "metadata": {},
   "source": [
    "## 1021 : [기초-입출력] 단어 1개 입력받아 그대로 출력하기(설명) \n",
    "1개의 단어를 입력받아 그대로 출력해보자."
   ]
  },
  {
   "cell_type": "code",
   "execution_count": 1,
   "metadata": {},
   "outputs": [
    {
     "name": "stdout",
     "output_type": "stream",
     "text": [
      "하하\n",
      "하하\n"
     ]
    }
   ],
   "source": [
    "a=input()\n",
    "print(a)"
   ]
  },
  {
   "cell_type": "markdown",
   "metadata": {},
   "source": [
    "## 1022 : [기초-입출력] 문장 1개 입력받아 그대로 출력하기(설명)\n",
    "공백 문자가 포함되어 있는 문장을 입력받고 그대로 출력하는 연습을 해보자."
   ]
  },
  {
   "cell_type": "code",
   "execution_count": 2,
   "metadata": {},
   "outputs": [
    {
     "name": "stdout",
     "output_type": "stream",
     "text": [
      "하하 하하\n",
      "하하 하하\n"
     ]
    }
   ],
   "source": [
    "a=input()\n",
    "print(a)"
   ]
  },
  {
   "cell_type": "markdown",
   "metadata": {},
   "source": [
    "## 1023 : [기초-입출력] 실수 1개 입력받아 부분별로 출력하기(설명)\n",
    "실수 1개를 입력받아 정수 부분과 실수 부분으로 나누어 출력한다."
   ]
  },
  {
   "cell_type": "code",
   "execution_count": 3,
   "metadata": {},
   "outputs": [
    {
     "name": "stdout",
     "output_type": "stream",
     "text": [
      "2.2323\n",
      "2\n",
      "2323\n"
     ]
    }
   ],
   "source": [
    "a, b = input().split(\".\")\n",
    "print(a)\n",
    "print(b)"
   ]
  },
  {
   "cell_type": "markdown",
   "metadata": {},
   "source": [
    "## 1024 : [기초-입출력] 단어 1개 입력받아 나누어 출력하기(설명)\n",
    "단어를 1개 입력받는다.  \n",
    "입력받은 단어(영어)의 각 문자를  \n",
    "한줄에 한 문자씩 분리해 출력한다.  \n",
    "\n",
    "입력: 단어(영어) 하나를 입력받는다. (단, 단어의 길이는 20자 이하이다.)  \n",
    "\n",
    "출력: 단어의 문자(영어)를 하나씩 나누어 한 줄에 한 개씩 ' '로 묶어서 출력한다."
   ]
  },
  {
   "cell_type": "code",
   "execution_count": 4,
   "metadata": {},
   "outputs": [
    {
     "name": "stdout",
     "output_type": "stream",
     "text": [
      "abcde\n",
      "'a'\n",
      "'b'\n",
      "'c'\n",
      "'d'\n",
      "'e'\n"
     ]
    }
   ],
   "source": [
    "a = input()\n",
    "for i in a :\n",
    "    print(\"\\'\"+i+\"\\'\")"
   ]
  },
  {
   "cell_type": "markdown",
   "metadata": {},
   "source": [
    "## 1025 : [기초-입출력] 정수 1개 입력받아 나누어 출력하기(설명)\n",
    "다섯 자리의 정수 1개를 입력받아 각 자리별로 나누어 출력한다."
   ]
  },
  {
   "cell_type": "code",
   "execution_count": 5,
   "metadata": {},
   "outputs": [
    {
     "name": "stdout",
     "output_type": "stream",
     "text": [
      "12345\n",
      "[10000]\n",
      "[2000]\n",
      "[300]\n",
      "[40]\n",
      "[5]\n"
     ]
    }
   ],
   "source": [
    "n = input()\n",
    "print(\"[%d]\" %(int(n[0])*10000))\n",
    "print(\"[%d]\" %(int(n[1])*1000))\n",
    "print(\"[%d]\" %(int(n[2])*100))\n",
    "print(\"[%d]\" %(int(n[3])*10))\n",
    "print(\"[%d]\" %(int(n[4])*1))"
   ]
  },
  {
   "cell_type": "markdown",
   "metadata": {},
   "source": [
    "## 1026 : [기초-입출력] 시분초 입력받아 분만 출력하기(설명)\n",
    "입력되는 시:분:초 에서 분만 출력해보자."
   ]
  },
  {
   "cell_type": "code",
   "execution_count": 6,
   "metadata": {},
   "outputs": [
    {
     "name": "stdout",
     "output_type": "stream",
     "text": [
      "13:32:55\n",
      "32\n"
     ]
    }
   ],
   "source": [
    "#1\n",
    "hour, minute, second=input().split(\":\")\n",
    "print(minute)"
   ]
  },
  {
   "cell_type": "markdown",
   "metadata": {},
   "source": [
    "#2\n",
    "time=input().split(\":\")\n",
    "print(int(a[1]))"
   ]
  },
  {
   "cell_type": "markdown",
   "metadata": {},
   "source": [
    "## 1027 : [기초-입출력] 년월일 입력 받아 형식 바꿔 출력하기(설명)\n",
    "년월일을 출력하는 방법은 나라마다, 형식마다 조금씩 다르다.  \n",
    "년월일(yyyy.mm.dd)를 입력받아, 일월년(dd-mm-yyyy)로 출력해보자.  \n",
    "(단, 한 자리 일/월은 0을 붙여 두자리로, 년도도 0을 붙여 네자리로 출력한다.) "
   ]
  },
  {
   "cell_type": "code",
   "execution_count": 12,
   "metadata": {},
   "outputs": [
    {
     "name": "stdout",
     "output_type": "stream",
     "text": [
      "2012.2.2\n",
      "02-02-2012\n"
     ]
    }
   ],
   "source": [
    "#1\n",
    "year,month,day = input().split(\".\")\n",
    "print(\"%02d-%02d-%04d\" % (int(day),int(month),int(year)))"
   ]
  },
  {
   "cell_type": "markdown",
   "metadata": {},
   "source": [
    "#2\n",
    "year,month,day = input().split(\".\")\n",
    "print(day.zfill(2),month.zfill(2),year.zfill(4),sep=\"-\")"
   ]
  },
  {
   "cell_type": "markdown",
   "metadata": {},
   "source": [
    "## 1028 : [기초-데이터형] 정수 1개 입력받아 그대로 출력하기2(설명)\n",
    "정수 1개를 입력받아 그대로 출력해보자.  \n",
    "(단, 입력되는 정수의 범위는 0 ~ 4,294,967,295 이다.)"
   ]
  },
  {
   "cell_type": "code",
   "execution_count": 17,
   "metadata": {},
   "outputs": [
    {
     "name": "stdout",
     "output_type": "stream",
     "text": [
      "4\n",
      "4\n"
     ]
    }
   ],
   "source": [
    "a = input()\n",
    "print(int(a))"
   ]
  },
  {
   "cell_type": "markdown",
   "metadata": {},
   "source": [
    "## 1029 : [기초-데이터형] 실수 1개 입력받아 그대로 출력하기2(설명)\n",
    "\n",
    "실수 1개를 입력받아 그대로 출력해보자."
   ]
  },
  {
   "cell_type": "code",
   "execution_count": 19,
   "metadata": {},
   "outputs": [
    {
     "name": "stdout",
     "output_type": "stream",
     "text": [
      "2.312398798748967374\n",
      "2.31239879875\n"
     ]
    }
   ],
   "source": [
    "a = float(input())\n",
    "print(\"%.11f\" % a)"
   ]
  },
  {
   "cell_type": "markdown",
   "metadata": {},
   "source": [
    "## 1030 : [기초-데이터형] 정수 1개 입력받아 그대로 출력하기3(설명)\n",
    "정수 1개를 입력받아 그대로 출력해보자."
   ]
  },
  {
   "cell_type": "code",
   "execution_count": 20,
   "metadata": {},
   "outputs": [
    {
     "name": "stdout",
     "output_type": "stream",
     "text": [
      "56\n",
      "56\n"
     ]
    }
   ],
   "source": [
    "a = input()\n",
    "print(a)"
   ]
  }
 ],
 "metadata": {
  "kernelspec": {
   "display_name": "Python 3",
   "language": "python",
   "name": "python3"
  },
  "language_info": {
   "codemirror_mode": {
    "name": "ipython",
    "version": 3
   },
   "file_extension": ".py",
   "mimetype": "text/x-python",
   "name": "python",
   "nbconvert_exporter": "python",
   "pygments_lexer": "ipython3",
   "version": "3.8.5"
  }
 },
 "nbformat": 4,
 "nbformat_minor": 4
}
