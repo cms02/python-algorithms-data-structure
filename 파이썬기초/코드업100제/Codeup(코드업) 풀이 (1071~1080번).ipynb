{
 "cells": [
  {
   "cell_type": "markdown",
   "metadata": {},
   "source": [
    "## 1071 : [기초-반복실행구조] 0 입력될 때까지 무한 출력하기1(설명)\n",
    "정수가 순서대로 입력된다.  \n",
    "-2147483648 ~ +2147483647, 단 개수는 알 수 없다.  \n",
    "\n",
    "0이 아니면 입력된 정수를 출력하고, 0이 입력되면 출력을 중단해보자.  "
   ]
  },
  {
   "cell_type": "code",
   "execution_count": 2,
   "metadata": {},
   "outputs": [
    {
     "name": "stdout",
     "output_type": "stream",
     "text": [
      "1 3 5 0 7 5 3\n",
      "1\n",
      "3\n",
      "5\n"
     ]
    }
   ],
   "source": [
    "a = map(int,input().split())\n",
    "for i in a :\n",
    "    if i==0:\n",
    "        break\n",
    "    print(i)"
   ]
  },
  {
   "cell_type": "markdown",
   "metadata": {},
   "source": [
    "## 1072 : [기초-반복실행구조] 정수 입력받아 계속 출력하기(설명)\n",
    "n개의 정수가 순서대로 입력된다.  \n",
    "-2147483648 ~ +2147483647, 단 n의 최대 개수는 알 수 없다.  \n",
    "n개의 입력된 정수를 순서대로 출력해보자."
   ]
  },
  {
   "cell_type": "code",
   "execution_count": 3,
   "metadata": {},
   "outputs": [
    {
     "name": "stdout",
     "output_type": "stream",
     "text": [
      "5\n",
      "1 2 3 4 5\n",
      "1\n",
      "2\n",
      "3\n",
      "4\n",
      "5\n"
     ]
    }
   ],
   "source": [
    "a =  int(input())\n",
    "b = map(int,input().split())\n",
    "for i in b:\n",
    "    print(i)"
   ]
  },
  {
   "cell_type": "markdown",
   "metadata": {},
   "source": [
    "## 1073 : [기초-반복실행구조] 0 입력될 때까지 무한 출력하기2(설명)\n",
    "정수가 순서대로 입력된다.  \n",
    "-2147483648 ~ +2147483647, 단 개수는 알 수 없다.  \n",
    "0이 아니면 입력된 정수를 출력하고, 0이 입력되면 출력을 중단해보자."
   ]
  },
  {
   "cell_type": "code",
   "execution_count": 4,
   "metadata": {},
   "outputs": [
    {
     "name": "stdout",
     "output_type": "stream",
     "text": [
      "1 2 3 3 4 5 0 2 44 \n",
      "1\n",
      "2\n",
      "3\n",
      "3\n",
      "4\n",
      "5\n"
     ]
    }
   ],
   "source": [
    "a = map(int,input().split())\n",
    "for i in a:\n",
    "    if i==0:\n",
    "        break\n",
    "    print(i)"
   ]
  },
  {
   "cell_type": "markdown",
   "metadata": {},
   "source": [
    "## 1074 : [기초-반복실행구조] 정수 1개 입력받아 카운트다운 출력하기1(설명)\n",
    "정수(1 ~ 100) 1개가 입력되었을 때 카운트다운을 출력해보자."
   ]
  },
  {
   "cell_type": "code",
   "execution_count": 1,
   "metadata": {},
   "outputs": [
    {
     "name": "stdout",
     "output_type": "stream",
     "text": [
      "5\n",
      "5\n",
      "4\n",
      "3\n",
      "2\n",
      "1\n"
     ]
    }
   ],
   "source": [
    "a = int(input())\n",
    "while a!=0:\n",
    "    print(a)\n",
    "    a=a-1"
   ]
  },
  {
   "cell_type": "markdown",
   "metadata": {},
   "source": [
    "## 1075 : [기초-반복실행구조] 정수 1개 입력받아 카운트다운 출력하기2(설명)\n",
    "정수(1 ~ 100) 1개가 입력되었을 때 카운트다운을 출력해보자."
   ]
  },
  {
   "cell_type": "code",
   "execution_count": 2,
   "metadata": {},
   "outputs": [
    {
     "name": "stdout",
     "output_type": "stream",
     "text": [
      "5\n",
      "4\n",
      "3\n",
      "2\n",
      "1\n",
      "0\n"
     ]
    }
   ],
   "source": [
    "a = int(input())\n",
    "while a!=0:\n",
    "    print(a-1)\n",
    "    a-=1"
   ]
  },
  {
   "cell_type": "markdown",
   "metadata": {},
   "source": [
    "## 1076 : [기초-반복실행구조] 문자 1개 입력받아 알파벳 출력하기(설명)\n",
    "영문자(a ~ z) 1개가 입력되었을 때 그 문자까지의 알파벳을 순서대로 출력해보자."
   ]
  },
  {
   "cell_type": "code",
   "execution_count": 11,
   "metadata": {},
   "outputs": [
    {
     "name": "stdout",
     "output_type": "stream",
     "text": [
      "g\n",
      "a b c d e f g "
     ]
    }
   ],
   "source": [
    "a = ord(input())\n",
    "b = ord('a')\n",
    "while a>=b:\n",
    "    print(chr(b),end=' ')\n",
    "    b +=1"
   ]
  },
  {
   "cell_type": "markdown",
   "metadata": {},
   "source": [
    "## 1077 : [기초-반복실행구조] 정수 1개 입력받아 그 수까지 출력하기(설명)\n",
    "정수(0 ~ 100) 1개를 입력받아 0부터 그 수까지 순서대로 출력해보자."
   ]
  },
  {
   "cell_type": "code",
   "execution_count": 12,
   "metadata": {},
   "outputs": [
    {
     "name": "stdout",
     "output_type": "stream",
     "text": [
      "5\n",
      "0\n",
      "1\n",
      "2\n",
      "3\n",
      "4\n",
      "5\n"
     ]
    }
   ],
   "source": [
    "a = int(input())\n",
    "b = 0\n",
    "while b<=a:\n",
    "    print(b)\n",
    "    b +=1"
   ]
  },
  {
   "cell_type": "markdown",
   "metadata": {},
   "source": [
    "## 1078 : [기초-종합] 짝수 합 구하기(설명)\n",
    "정수(1 ~ 100) 1개를 입력받아 1부터 그 수까지 짝수의 합을 구해보자."
   ]
  },
  {
   "cell_type": "code",
   "execution_count": 17,
   "metadata": {},
   "outputs": [
    {
     "name": "stdout",
     "output_type": "stream",
     "text": [
      "5\n",
      "6\n"
     ]
    }
   ],
   "source": [
    "a = int(input())\n",
    "b = 1\n",
    "c = 0\n",
    "while b<=a:\n",
    "    if b%2 ==0:\n",
    "        c=c+b\n",
    "    b+=1\n",
    "print(c)"
   ]
  },
  {
   "cell_type": "markdown",
   "metadata": {},
   "source": [
    "## 1079 : [기초-종합] 원하는 문자가 입력될 때까지 반복 출력하기\n",
    "'q'가 입력될 때까지 입력한 문자를 계속 출력하는 프로그램을 작성해보자."
   ]
  },
  {
   "cell_type": "code",
   "execution_count": 21,
   "metadata": {},
   "outputs": [
    {
     "name": "stdout",
     "output_type": "stream",
     "text": [
      "a s d q e r \n",
      "a\n",
      "s\n",
      "d\n",
      "q\n"
     ]
    }
   ],
   "source": [
    "a = input().split()\n",
    "for i in a:\n",
    "    if i=='q':\n",
    "        print(i)\n",
    "        break\n",
    "    else:\n",
    "        print(i)"
   ]
  },
  {
   "cell_type": "markdown",
   "metadata": {},
   "source": [
    "## 1080 : [기초-종합] 언제까지 더해야 할까?\n",
    "1, 2, 3 ... 을 계속 더해 나갈 때,\n",
    "그 합이 입력한 정수(0 ~ 1000)보다 같거나 작을 때까지\n",
    "계속 더하는 프로그램을 작성해보자."
   ]
  },
  {
   "cell_type": "code",
   "execution_count": 34,
   "metadata": {},
   "outputs": [
    {
     "name": "stdout",
     "output_type": "stream",
     "text": [
      "7\n",
      "4\n"
     ]
    }
   ],
   "source": [
    "a = int(input())\n",
    "s = 0\n",
    "for i in range(0,a):\n",
    "    i+=1\n",
    "    s+=i\n",
    "    if s>=a:\n",
    "        print(i)\n",
    "        break"
   ]
  },
  {
   "cell_type": "code",
   "execution_count": null,
   "metadata": {},
   "outputs": [],
   "source": []
  }
 ],
 "metadata": {
  "kernelspec": {
   "display_name": "Python 3",
   "language": "python",
   "name": "python3"
  },
  "language_info": {
   "codemirror_mode": {
    "name": "ipython",
    "version": 3
   },
   "file_extension": ".py",
   "mimetype": "text/x-python",
   "name": "python",
   "nbconvert_exporter": "python",
   "pygments_lexer": "ipython3",
   "version": "3.8.5"
  }
 },
 "nbformat": 4,
 "nbformat_minor": 4
}
