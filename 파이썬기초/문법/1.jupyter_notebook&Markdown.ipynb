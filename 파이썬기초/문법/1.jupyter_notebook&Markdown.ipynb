{
 "cells": [
  {
   "cell_type": "markdown",
   "metadata": {},
   "source": [
    "print(\"Hello world\")"
   ]
  },
  {
   "cell_type": "markdown",
   "metadata": {},
   "source": [
    "# 제일 큰 제목\n",
    "## 다음 큰 제목\n",
    "### 다음 큰 제목\n",
    "#### 다음 큰 제목\n",
    "##### 다음 큰 제목\n",
    "\n",
    "첫번째 줄(엔터)\n",
    "두번째 줄\n",
    "\n",
    "첫번째 줄(스페이스바 두번 후 엔터)  \n",
    "두번째 줄\n",
    "\n",
    "1. 일번\n",
    "2. 이번\n",
    "3. 삼번\n",
    "\n",
    "- 일번\n",
    "- 이번\n",
    "- 삼번\n"
   ]
  }
 ],
 "metadata": {
  "kernelspec": {
   "display_name": "Python 3",
   "language": "python",
   "name": "python3"
  },
  "language_info": {
   "codemirror_mode": {
    "name": "ipython",
    "version": 3
   },
   "file_extension": ".py",
   "mimetype": "text/x-python",
   "name": "python",
   "nbconvert_exporter": "python",
   "pygments_lexer": "ipython3",
   "version": "3.8.5"
  }
 },
 "nbformat": 4,
 "nbformat_minor": 4
}
