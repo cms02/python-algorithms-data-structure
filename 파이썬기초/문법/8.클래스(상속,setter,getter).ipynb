{
 "cells": [
  {
   "cell_type": "code",
   "execution_count": 1,
   "metadata": {},
   "outputs": [],
   "source": [
    "class Parent:\n",
    "    def __init__(self, name=\"Tom\", phone_number=\"010-1234-5678\"):\n",
    "        self.name=name\n",
    "        self.phone_number=phone_number\n",
    "    def print_name(self):\n",
    "        return self.name\n",
    "    def print_phone_number(self):\n",
    "        return self.phone_number\n",
    "    "
   ]
  },
  {
   "cell_type": "code",
   "execution_count": 2,
   "metadata": {},
   "outputs": [
    {
     "data": {
      "text/plain": [
       "'Tom'"
      ]
     },
     "execution_count": 2,
     "metadata": {},
     "output_type": "execute_result"
    }
   ],
   "source": [
    "parent=Parent(\"Tom\",\"010-1234-4231\")\n",
    "parent.print_name()"
   ]
  },
  {
   "cell_type": "code",
   "execution_count": 13,
   "metadata": {},
   "outputs": [],
   "source": [
    "class Child(Parent):\n",
    "    def __init__(self, address=\"Seoul\"):\n",
    "        super().__init__()\n",
    "#위의 super는 아래를 사용한 것과 같다\n",
    "#         self.name=name\n",
    "#         self.phone_number=phone_number\n",
    "        self.address=address\n",
    "    \n",
    "    def print_address(self):\n",
    "        return self.address"
   ]
  },
  {
   "cell_type": "code",
   "execution_count": 16,
   "metadata": {},
   "outputs": [],
   "source": [
    "child=Child()"
   ]
  },
  {
   "cell_type": "code",
   "execution_count": 17,
   "metadata": {},
   "outputs": [
    {
     "data": {
      "text/plain": [
       "('Tom', '010-1234-5678', 'Seoul')"
      ]
     },
     "execution_count": 17,
     "metadata": {},
     "output_type": "execute_result"
    }
   ],
   "source": [
    "child.print_name(), child.print_phone_number(),child.print_address()"
   ]
  },
  {
   "cell_type": "code",
   "execution_count": 18,
   "metadata": {},
   "outputs": [
    {
     "data": {
      "text/plain": [
       "'Tom'"
      ]
     },
     "execution_count": 18,
     "metadata": {},
     "output_type": "execute_result"
    }
   ],
   "source": [
    "child.name"
   ]
  },
  {
   "cell_type": "code",
   "execution_count": 19,
   "metadata": {},
   "outputs": [],
   "source": [
    "child.name=\"john\""
   ]
  },
  {
   "cell_type": "code",
   "execution_count": 20,
   "metadata": {},
   "outputs": [
    {
     "data": {
      "text/plain": [
       "'john'"
      ]
     },
     "execution_count": 20,
     "metadata": {},
     "output_type": "execute_result"
    }
   ],
   "source": [
    "child.name #맴버변수의 값을 임의로 쉽게 변경할 수 있음  이를 방지하기위해 setter/getter 사용"
   ]
  },
  {
   "cell_type": "code",
   "execution_count": 1,
   "metadata": {},
   "outputs": [],
   "source": [
    "class Parent2:\n",
    "    def __init__(self, name=\"Tom\", phone_number=\"010-1234-5678\"):\n",
    "        self.__name=name  #mangling 서브클래스에서 변수가 재사용됨을 막기위해  __\n",
    "        self.phone_number=phone_number\n",
    "        \n",
    "        \n",
    "    def setter_name(self,name=\"Tom\"):\n",
    "        #이름을 문자열로만 가능하게\n",
    "        if type(name)==str:\n",
    "            print(\"setter_name\")\n",
    "            self.__name=name\n",
    "        else:\n",
    "            print(\"not string error!!\")\n",
    "        \n",
    "\n",
    "        \n",
    "    def setter_phone_number(self, phone_number=\"010-1234-4321\"):\n",
    "        print(\"setter_phone_number\")\n",
    "        self.phone_number=phone_number\n",
    "        \n",
    "    def getter_name(self):\n",
    "        print(\"getter_name\")\n",
    "        return self.__name\n",
    "    \n",
    "    def getter_phone_number(self):\n",
    "        print(\"getter_phone_number\")\n",
    "        return self.phone_number\n",
    "    \n",
    "    \n",
    "    def print_name(self):\n",
    "        return self.__name\n",
    "    def print_phone_number(self):\n",
    "        return self.phone_number\n",
    "    \n",
    "    my_name=property(getter_name, setter_name)\n",
    "    my_phone_number=property(getter_phone_number, setter_phone_number)\n",
    "    \n",
    "    \n",
    "    \n",
    "    "
   ]
  },
  {
   "cell_type": "code",
   "execution_count": 35,
   "metadata": {},
   "outputs": [
    {
     "name": "stdout",
     "output_type": "stream",
     "text": [
      "setter_name\n"
     ]
    }
   ],
   "source": [
    "parent2 = Parent2(\"denny\",\"010-1111-2222\")\n",
    "parent2.my_name=\"Tom\""
   ]
  },
  {
   "cell_type": "code",
   "execution_count": 36,
   "metadata": {},
   "outputs": [
    {
     "name": "stdout",
     "output_type": "stream",
     "text": [
      "getter_name\n"
     ]
    },
    {
     "data": {
      "text/plain": [
       "'Tom'"
      ]
     },
     "execution_count": 36,
     "metadata": {},
     "output_type": "execute_result"
    }
   ],
   "source": [
    "parent2.my_name"
   ]
  },
  {
   "cell_type": "code",
   "execution_count": 38,
   "metadata": {},
   "outputs": [
    {
     "data": {
      "text/plain": [
       "'John'"
      ]
     },
     "execution_count": 38,
     "metadata": {},
     "output_type": "execute_result"
    }
   ],
   "source": [
    "parent2.name=\"John\"\n",
    "parent2.name"
   ]
  },
  {
   "cell_type": "code",
   "execution_count": 46,
   "metadata": {},
   "outputs": [
    {
     "ename": "AttributeError",
     "evalue": "'Parent2' object has no attribute '__my_name'",
     "output_type": "error",
     "traceback": [
      "\u001b[1;31m---------------------------------------------------------------------------\u001b[0m",
      "\u001b[1;31mAttributeError\u001b[0m                            Traceback (most recent call last)",
      "\u001b[1;32m<ipython-input-46-35ec329d5c63>\u001b[0m in \u001b[0;36m<module>\u001b[1;34m\u001b[0m\n\u001b[0;32m      1\u001b[0m \u001b[0mparent2\u001b[0m \u001b[1;33m=\u001b[0m \u001b[0mParent2\u001b[0m\u001b[1;33m(\u001b[0m\u001b[1;34m\"denny\"\u001b[0m\u001b[1;33m,\u001b[0m\u001b[1;34m\"010-1111-2222\"\u001b[0m\u001b[1;33m)\u001b[0m\u001b[1;33m\u001b[0m\u001b[1;33m\u001b[0m\u001b[0m\n\u001b[1;32m----> 2\u001b[1;33m \u001b[0mparent2\u001b[0m\u001b[1;33m.\u001b[0m\u001b[0m__my_name\u001b[0m\u001b[1;33m\u001b[0m\u001b[1;33m\u001b[0m\u001b[0m\n\u001b[0m",
      "\u001b[1;31mAttributeError\u001b[0m: 'Parent2' object has no attribute '__my_name'"
     ]
    }
   ],
   "source": [
    "parent2 = Parent2(\"denny\",\"010-1111-2222\")\n",
    "parent2.__my_name"
   ]
  },
  {
   "cell_type": "code",
   "execution_count": null,
   "metadata": {},
   "outputs": [],
   "source": []
  }
 ],
 "metadata": {
  "kernelspec": {
   "display_name": "Python 3",
   "language": "python",
   "name": "python3"
  },
  "language_info": {
   "codemirror_mode": {
    "name": "ipython",
    "version": 3
   },
   "file_extension": ".py",
   "mimetype": "text/x-python",
   "name": "python",
   "nbconvert_exporter": "python",
   "pygments_lexer": "ipython3",
   "version": "3.8.5"
  }
 },
 "nbformat": 4,
 "nbformat_minor": 4
}
