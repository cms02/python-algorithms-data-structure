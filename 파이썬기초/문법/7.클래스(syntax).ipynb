{
 "cells": [
  {
   "cell_type": "code",
   "execution_count": 26,
   "metadata": {},
   "outputs": [],
   "source": [
    "class User:\n",
    "    name=\"Deny Ahn\"\n",
    "    phone_number=\"010-1234-4321\"\n",
    "\n",
    "    def print_name(self):\n",
    "        print(self.name)\n",
    "    def print_phone_number(self):\n",
    "        print(self.phone_number)"
   ]
  },
  {
   "cell_type": "code",
   "execution_count": 27,
   "metadata": {},
   "outputs": [],
   "source": [
    "user1= User()"
   ]
  },
  {
   "cell_type": "code",
   "execution_count": 28,
   "metadata": {},
   "outputs": [
    {
     "name": "stdout",
     "output_type": "stream",
     "text": [
      "kevin_kim\n"
     ]
    }
   ],
   "source": [
    "user1.name=\"kevin_kim\"\n",
    "user1.print_name()"
   ]
  },
  {
   "cell_type": "code",
   "execution_count": 29,
   "metadata": {},
   "outputs": [
    {
     "data": {
      "text/plain": [
       "(__main__.User, __main__.User, False)"
      ]
     },
     "execution_count": 29,
     "metadata": {},
     "output_type": "execute_result"
    }
   ],
   "source": [
    "user1=User()\n",
    "user2=User()\n",
    "type(user1), type(user2), user1==user2  #False self 가 다름"
   ]
  },
  {
   "cell_type": "code",
   "execution_count": 31,
   "metadata": {},
   "outputs": [],
   "source": [
    "class User:\n",
    "    name=\"Deny Ahn\"\n",
    "    phone_number=\"010-1234-4321\"\n",
    "    \n",
    "    #생성자  맴버변수 초기화\n",
    "    def __init__(self, name, phone_number):\n",
    "        print(\"__init__\")\n",
    "        self.name=name\n",
    "        self.phone_number=phone_number\n",
    "    \n",
    "        \n",
    "    def print_name(self):\n",
    "        print(self.name)\n",
    "    def print_phone_number(self):\n",
    "        print(self.phone_number)"
   ]
  },
  {
   "cell_type": "code",
   "execution_count": 32,
   "metadata": {},
   "outputs": [
    {
     "name": "stdout",
     "output_type": "stream",
     "text": [
      "__init__\n"
     ]
    }
   ],
   "source": [
    "user3 = User(\"John\", \"010-9876-4231\")"
   ]
  },
  {
   "cell_type": "code",
   "execution_count": 34,
   "metadata": {},
   "outputs": [
    {
     "name": "stdout",
     "output_type": "stream",
     "text": [
      "John\n",
      "010-9876-4231\n"
     ]
    },
    {
     "data": {
      "text/plain": [
       "(None, None)"
      ]
     },
     "execution_count": 34,
     "metadata": {},
     "output_type": "execute_result"
    }
   ],
   "source": [
    "user3.print_name(),user3.print_phone_number()"
   ]
  }
 ],
 "metadata": {
  "kernelspec": {
   "display_name": "Python 3",
   "language": "python",
   "name": "python3"
  },
  "language_info": {
   "codemirror_mode": {
    "name": "ipython",
    "version": 3
   },
   "file_extension": ".py",
   "mimetype": "text/x-python",
   "name": "python",
   "nbconvert_exporter": "python",
   "pygments_lexer": "ipython3",
   "version": "3.8.5"
  }
 },
 "nbformat": 4,
 "nbformat_minor": 4
}
