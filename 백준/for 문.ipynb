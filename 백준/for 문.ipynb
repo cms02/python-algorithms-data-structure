{
 "cells": [
  {
   "cell_type": "code",
   "execution_count": 1,
   "metadata": {},
   "outputs": [
    {
     "name": "stdout",
     "output_type": "stream",
     "text": [
      "5\n",
      "5\n",
      "4\n",
      "3\n",
      "2\n",
      "1\n"
     ]
    }
   ],
   "source": [
    "#2742\n",
    "num = int(input())\n",
    "for i in range(num,0,-1):\n",
    "    print(i)"
   ]
  },
  {
   "cell_type": "code",
   "execution_count": 8,
   "metadata": {},
   "outputs": [
    {
     "name": "stdout",
     "output_type": "stream",
     "text": [
      "1\n",
      "1 2\n",
      "Case #1: 1 + 2 = 3\n"
     ]
    }
   ],
   "source": [
    "#11022\n",
    "case = int(input())\n",
    "for i in range(case):\n",
    "    A, B = map(int,input().split())\n",
    "    answer = A + B\n",
    "    print(\"Case #%d: %d + %d = %d\" % (i+1,A,B,answer))"
   ]
  },
  {
   "cell_type": "code",
   "execution_count": 11,
   "metadata": {},
   "outputs": [
    {
     "name": "stdout",
     "output_type": "stream",
     "text": [
      "3\n",
      "*\n",
      "**\n",
      "***\n"
     ]
    }
   ],
   "source": [
    "#2438\n",
    "case = int(input())\n",
    "for i in range(case):\n",
    "    print(\"*\"*(1+i))"
   ]
  },
  {
   "cell_type": "code",
   "execution_count": 15,
   "metadata": {},
   "outputs": [
    {
     "name": "stdout",
     "output_type": "stream",
     "text": [
      "5\n",
      "    *\n",
      "   **\n",
      "  ***\n",
      " ****\n",
      "*****\n"
     ]
    }
   ],
   "source": [
    "#2439\n",
    "case = int(input())\n",
    "for i in range(case):\n",
    "    print(\" \"*(case-i-1)+\"*\"*(i+1))"
   ]
  },
  {
   "cell_type": "code",
   "execution_count": 19,
   "metadata": {},
   "outputs": [
    {
     "name": "stdout",
     "output_type": "stream",
     "text": [
      "3 3\n",
      "1 2 4\n",
      "1 2 "
     ]
    }
   ],
   "source": [
    "#10871\n",
    "N, X = map(int,input().split())\n",
    "L = list(map(int,input().split()))\n",
    "for i in range(N):\n",
    "    if L[i] < X:\n",
    "        print(L[i],end=\" \")"
   ]
  }
 ],
 "metadata": {
  "kernelspec": {
   "display_name": "Python 3",
   "language": "python",
   "name": "python3"
  },
  "language_info": {
   "codemirror_mode": {
    "name": "ipython",
    "version": 3
   },
   "file_extension": ".py",
   "mimetype": "text/x-python",
   "name": "python",
   "nbconvert_exporter": "python",
   "pygments_lexer": "ipython3",
   "version": "3.8.5"
  }
 },
 "nbformat": 4,
 "nbformat_minor": 4
}
