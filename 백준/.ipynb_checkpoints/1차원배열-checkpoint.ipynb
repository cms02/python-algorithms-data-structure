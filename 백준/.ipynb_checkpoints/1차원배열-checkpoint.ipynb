{
 "cells": [
  {
   "cell_type": "code",
   "execution_count": 3,
   "metadata": {},
   "outputs": [
    {
     "name": "stdout",
     "output_type": "stream",
     "text": [
      "2\n",
      "2 7 30\n",
      "2 30\n"
     ]
    }
   ],
   "source": [
    "#10818\n",
    "n = int(input())\n",
    "arr = list(map(int,input().split()))\n",
    "print(\"%d %d\" % (min(arr),max(arr)))"
   ]
  },
  {
   "cell_type": "code",
   "execution_count": 1,
   "metadata": {},
   "outputs": [
    {
     "name": "stdout",
     "output_type": "stream",
     "text": [
      "1\n",
      "2\n",
      "3\n",
      "4\n",
      "5\n",
      "6\n",
      "7\n",
      "8\n",
      "9\n",
      "9\n",
      "9\n"
     ]
    }
   ],
   "source": [
    "#2562\n",
    "arr =[]\n",
    "for i in range(9):\n",
    "    arr.append(int(input()))\n",
    "m = max(arr)\n",
    "print(m)\n",
    "print(arr.index(m)+1)"
   ]
  },
  {
   "cell_type": "code",
   "execution_count": 2,
   "metadata": {},
   "outputs": [
    {
     "name": "stdout",
     "output_type": "stream",
     "text": [
      "10\n",
      "20\n",
      "30\n",
      "3\n",
      "0\n",
      "0\n",
      "0\n",
      "0\n",
      "0\n",
      "1\n",
      "0\n",
      "0\n",
      "0\n"
     ]
    }
   ],
   "source": [
    "#2577\n",
    "A = int(input())\n",
    "B = int(input())\n",
    "C = int(input())\n",
    "\n",
    "Total = list(str(A * B * C))\n",
    "for i in range(10):\n",
    "    print(Total.count(str(i)))"
   ]
  },
  {
   "cell_type": "code",
   "execution_count": 3,
   "metadata": {},
   "outputs": [
    {
     "name": "stdout",
     "output_type": "stream",
     "text": [
      "1\n",
      "1\n",
      "1\n",
      "1\n",
      "2\n",
      "2\n",
      "2\n",
      "2\n",
      "3\n",
      "3\n",
      "3\n"
     ]
    }
   ],
   "source": [
    "#3052\n",
    "list = []\n",
    "for i in range(10):\n",
    "    num = int(input())\n",
    "    list.append(num % 42)\n",
    "list = set(list)\n",
    "print(len(list))"
   ]
  },
  {
   "cell_type": "code",
   "execution_count": 1,
   "metadata": {},
   "outputs": [
    {
     "name": "stdout",
     "output_type": "stream",
     "text": [
      "3\n",
      "40 80 60\n",
      "75.0\n"
     ]
    }
   ],
   "source": [
    "#1546\n",
    "n = int(input())\n",
    "list =list(map(int,input().split()))\n",
    "max = max(list)\n",
    "new_list = []\n",
    "for i in range(n):\n",
    "    new_list.append(list[i]*100/max)\n",
    "print(sum(new_list)/n)"
   ]
  },
  {
   "cell_type": "code",
   "execution_count": 1,
   "metadata": {},
   "outputs": [
    {
     "name": "stdout",
     "output_type": "stream",
     "text": [
      "1\n",
      "OOXXOXXOOO\n",
      "10\n"
     ]
    }
   ],
   "source": [
    "#8958\n",
    "t = int(input())\n",
    "for i in range(t):\n",
    "    sub_count = 0\n",
    "    main_count = 0\n",
    "    array = list(str(input()))\n",
    "    for j in range(len(array)):\n",
    "        if array[j] ==\"X\":\n",
    "            sub_count = 0\n",
    "        else:\n",
    "            sub_count += 1\n",
    "            main_count += sub_count\n",
    "    print(main_count)"
   ]
  },
  {
   "cell_type": "code",
   "execution_count": 2,
   "metadata": {},
   "outputs": [
    {
     "name": "stdout",
     "output_type": "stream",
     "text": [
      "1\n",
      "5 50 50 70 80 100\n",
      "40.000%\n"
     ]
    }
   ],
   "source": [
    "# 4344\n",
    "case = int(input())\n",
    "for i in range(case):\n",
    "    cnt = 0\n",
    "    arr = list(map(int,input().split()))\n",
    "    avg = sum(arr[1:]) / arr[0]\n",
    "    for score in arr[1:]:\n",
    "        if score > avg:\n",
    "            cnt += 1\n",
    "    rate = cnt / arr[0] * 100\n",
    "    print(\"%.3f\" % rate + '%')"
   ]
  }
 ],
 "metadata": {
  "kernelspec": {
   "display_name": "Python 3",
   "language": "python",
   "name": "python3"
  },
  "language_info": {
   "codemirror_mode": {
    "name": "ipython",
    "version": 3
   },
   "file_extension": ".py",
   "mimetype": "text/x-python",
   "name": "python",
   "nbconvert_exporter": "python",
   "pygments_lexer": "ipython3",
   "version": "3.8.5"
  }
 },
 "nbformat": 4,
 "nbformat_minor": 4
}
