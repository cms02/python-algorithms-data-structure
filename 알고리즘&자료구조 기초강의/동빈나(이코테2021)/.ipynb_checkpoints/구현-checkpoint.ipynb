{
 "cells": [
  {
   "cell_type": "markdown",
   "metadata": {},
   "source": [
    "# 상하좌우: 문제 설명\n",
    "- 여행가 A는 N × N 크기의 정사각형 공간 위에 서 있다. 이 공간은 1 × 1 크기의 정사각형으로 나누어져 있다.\n",
    "가장 왼쪽 위 좌표는 (1, 1)이며, 가장 오른쪽 아래 좌표는 (N, N)에 해당한다.\n",
    "여행가 A는 상, 하, 좌, 우 방향으로 이동할 수 있으며, 시작 좌표는 항상 (1, 1)이다. 우리 앞에는 여행가 A가\n",
    "이동할 계획이 적힌 계획서가 놓여 있다  \n",
    "\n",
    "\n",
    "- 계획서에는 하나의 줄에 띄어쓰기를 기준으로 L, R, U, D 중 하나의 문자가 반복적으로 적혀있다.\n",
    "각 문자의 의미는 다음과 같다\n",
    "\n",
    "    - L: 왼쪽으로 한 칸 이동\n",
    "    - R: 오른쪽으로 한 칸 이동\n",
    "    - U: 위로 한 칸 이동\n",
    "    - D: 아래로 한 칸 이동  \n",
    "    \n",
    "\n",
    "- 이때 여행가 A가 N × N 크기의 정사각형 공간을 벗어나는 움직임은 무시된다\n",
    "예를 들어 (1, 1)의 위치에서 L 혹은 U를 만나면 무시된다\n",
    "다음은 N = 5인 지도와 계획이다"
   ]
  },
  {
   "cell_type": "code",
   "execution_count": null,
   "metadata": {},
   "outputs": [],
   "source": [
    "# N 입력 받기\n",
    "n = int(input())\n",
    "x, y = 1, 1\n",
    "plans = input().split()\n",
    "\n",
    "# L, R, U, D에 따른 이동 방향\n",
    "dx = [0, 0, -1, 1]\n",
    "dy = [-1, 1, 0, 0]\n",
    "move_types = ['L', 'R', 'U', 'D']\n",
    "\n",
    "#이동 계획을 하나씩 확인하기\n",
    "for plan in plans:\n",
    "    #이동 후 좌표 구하기\n",
    "    for i in range(len(move_types)):\n",
    "        if plan == move_types[i]:\n",
    "            nx = x + dx[i]\n",
    "            ny = y + dy[i]\n",
    "        #공간을 벗어나는 경우 무시\n",
    "    if nx < 1 or ny <1 or nx > n or ny > n:\n",
    "        continue\n",
    "    #이동 수행\n",
    "    x, y = nx, ny\n",
    "print(x, y)"
   ]
  }
 ],
 "metadata": {
  "kernelspec": {
   "display_name": "Python 3",
   "language": "python",
   "name": "python3"
  },
  "language_info": {
   "codemirror_mode": {
    "name": "ipython",
    "version": 3
   },
   "file_extension": ".py",
   "mimetype": "text/x-python",
   "name": "python",
   "nbconvert_exporter": "python",
   "pygments_lexer": "ipython3",
   "version": "3.8.5"
  }
 },
 "nbformat": 4,
 "nbformat_minor": 4
}
