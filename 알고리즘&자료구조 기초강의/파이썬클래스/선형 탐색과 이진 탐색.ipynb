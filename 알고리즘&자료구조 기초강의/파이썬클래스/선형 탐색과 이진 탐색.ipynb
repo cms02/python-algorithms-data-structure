{
 "cells": [
  {
   "cell_type": "code",
   "execution_count": 1,
   "metadata": {
    "scrolled": true
   },
   "outputs": [
    {
     "name": "stdout",
     "output_type": "stream",
     "text": [
      "5.5265\n",
      "5.5111\n",
      "5.5346\n",
      "5.4892\n",
      "5.5112\n",
      "5.458\n",
      "5.5411\n",
      "5.5289\n",
      "5.5103\n",
      "5.526\n"
     ]
    }
   ],
   "source": [
    "#선형 탐색\n",
    "#순서대로 하나하나씩 찾기 ( 원하는 값 발견시, 더이상 안보고 끝냄)\n",
    "\n",
    "import random\n",
    "\n",
    "numList = (1, 5, 7, 13, 50, 120, 300, 320, 400, 700)\n",
    "\n",
    "for k in range(10):\n",
    "    cntSum = 0\n",
    "    for i in range(10000):\n",
    "        rndNum = numList[random.randint(0,9)]\n",
    "        for n in numList:\n",
    "            cntSum += 1\n",
    "            if n == rndNum:\n",
    "                break\n",
    "    print(cntSum/10000)"
   ]
  },
  {
   "cell_type": "code",
   "execution_count": 4,
   "metadata": {},
   "outputs": [
    {
     "name": "stdout",
     "output_type": "stream",
     "text": [
      "2.8885\n",
      "2.9028\n",
      "2.9113\n",
      "2.8963\n",
      "2.9043\n",
      "2.8994\n",
      "2.9119\n",
      "2.8953\n",
      "2.8781\n",
      "2.8875\n"
     ]
    }
   ],
   "source": [
    "#이진 탐색\n",
    "#절반씩 제외시키면서 찾기  (시작/끝/ key)\n",
    "\n",
    "import random\n",
    "\n",
    "numList=(1, 5, 7, 13, 50, 120, 300, 320, 400, 700)\n",
    "\n",
    "for k in range(10):\n",
    "    cntSum = 0\n",
    "    for i in range(10000):\n",
    "        start = 0\n",
    "        end = len(numList) -1\n",
    "        key = int((start + end) / 2)\n",
    "        V = random.randint(start, end)\n",
    "        while True:\n",
    "            cntSum += 1\n",
    "            if numList[key] == numList[V] or start == end:\n",
    "                break\n",
    "            elif numList[key] < numList[V]:\n",
    "                start = key + 1\n",
    "                key = int((start + end) / 2)\n",
    "            else:\n",
    "                end = key - 1\n",
    "                key = int((start + end) / 2)\n",
    "            \n",
    "    print(cntSum / 10000)"
   ]
  },
  {
   "cell_type": "markdown",
   "metadata": {},
   "source": [
    "## 예제\n",
    "정수를 계속 입력 받아서 저장합니다.\n",
    "- 만약 0을 입력하면 프로그램을 종료하고,\n",
    "- 입력값이 중복 된다면 \"중복값이 있습니다\"를 출력하고 다시 입력받습니다(선형탐색)\n",
    "- 중복 값이 없다면, 오름차순 형태로 나열될 수 있도록 저장합니다.(정렬함수 사용 금지, 선형탐색)\n",
    "- 정상적으로 입력이 끝나면 \"총 XX개의 정수가 저장되었습니다\"를 출력합니다.\n",
    "- 음수를 입력하면, 해당 음수의 양수 값(-10이라면 10을 검색)을 찾아서 위치를 알려줍니다.(이진탐색)\n",
    "- 찾는 값이 없다면, \"찾는 값이 없습니다\"를 출력하고 다시 입력 상태로 돌아옵니다."
   ]
  },
  {
   "cell_type": "code",
   "execution_count": 1,
   "metadata": {},
   "outputs": [
    {
     "name": "stdout",
     "output_type": "stream",
     "text": [
      "정수입력(0=종료, 검색하려면 -를 붙이세요.):1\n",
      "정수입력(0=종료, 검색하려면 -를 붙이세요.):3\n",
      "[1, 3]\n",
      "총 2개의 정수가 저장되었습니다.\n",
      "정수입력(0=종료, 검색하려면 -를 붙이세요.):5\n",
      "[1, 3, 5]\n",
      "총 3개의 정수가 저장되었습니다.\n",
      "정수입력(0=종료, 검색하려면 -를 붙이세요.):7\n",
      "[1, 3, 5, 7]\n",
      "총 4개의 정수가 저장되었습니다.\n",
      "정수입력(0=종료, 검색하려면 -를 붙이세요.):9\n",
      "[1, 3, 5, 7, 9]\n",
      "총 5개의 정수가 저장되었습니다.\n",
      "정수입력(0=종료, 검색하려면 -를 붙이세요.):44\n",
      "[1, 3, 5, 7, 9, 44]\n",
      "총 6개의 정수가 저장되었습니다.\n",
      "정수입력(0=종료, 검색하려면 -를 붙이세요.):55\n",
      "[1, 3, 5, 7, 9, 44, 55]\n",
      "총 7개의 정수가 저장되었습니다.\n",
      "정수입력(0=종료, 검색하려면 -를 붙이세요.):-44\n",
      "44(은)는 5번째 위치에 있습니다.\n",
      "정수입력(0=종료, 검색하려면 -를 붙이세요.):-43\n",
      "찾는 값이 없습니다.\n",
      "정수입력(0=종료, 검색하려면 -를 붙이세요.):0\n"
     ]
    }
   ],
   "source": [
    "numList = []\n",
    "\n",
    "while True:\n",
    "    tmp = int(input(\"정수입력(0=종료, 검색하려면 -를 붙이세요.):\"))\n",
    "    if tmp == 0:\n",
    "        break\n",
    "    #저장\n",
    "    if tmp > 0:\n",
    "        if len(numList) == 0:\n",
    "            numList.append(tmp)\n",
    "        else:\n",
    "            for i, v in enumerate(numList):\n",
    "                if tmp == v:\n",
    "                    print(\"중복값이 있습니다.\")\n",
    "                    continue\n",
    "                if tmp < v:\n",
    "                    numList.insert(i, tmp)\n",
    "                    break\n",
    "                if i == len(numList)-1:\n",
    "                    numList.append(tmp)\n",
    "                    break\n",
    "            print(numList)\n",
    "            print(\"총 {}개의 정수가 저장되었습니다.\".format(len(numList)))\n",
    "    else:\n",
    "        lookup = -tmp\n",
    "        start = 0\n",
    "        end = len(numList)-1\n",
    "        key = int((start + end) / 2)\n",
    "        while True:\n",
    "            if start > end :\n",
    "                print(\"찾는 값이 없습니다.\")\n",
    "                break\n",
    "            if numList[key] == lookup:\n",
    "                print(\"{}(은)는 {}번째 위치에 있습니다.\".format(lookup, key))\n",
    "                break\n",
    "            elif numList[key] < lookup:\n",
    "                start = key + 1\n",
    "                key = int((start + end) / 2)\n",
    "            else:\n",
    "                end = key - 1\n",
    "                key = int((start + end) / 2)\n",
    "        \n",
    "            "
   ]
  }
 ],
 "metadata": {
  "kernelspec": {
   "display_name": "Python 3",
   "language": "python",
   "name": "python3"
  },
  "language_info": {
   "codemirror_mode": {
    "name": "ipython",
    "version": 3
   },
   "file_extension": ".py",
   "mimetype": "text/x-python",
   "name": "python",
   "nbconvert_exporter": "python",
   "pygments_lexer": "ipython3",
   "version": "3.8.5"
  }
 },
 "nbformat": 4,
 "nbformat_minor": 4
}
