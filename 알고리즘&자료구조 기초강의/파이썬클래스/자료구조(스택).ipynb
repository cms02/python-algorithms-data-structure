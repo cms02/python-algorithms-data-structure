{
 "cells": [
  {
   "cell_type": "markdown",
   "metadata": {},
   "source": [
    "## 중위표현식을 후위표현식으로 변환하기"
   ]
  },
  {
   "cell_type": "code",
   "execution_count": 10,
   "metadata": {},
   "outputs": [
    {
     "name": "stdout",
     "output_type": "stream",
     "text": [
      "식을 입력하세요: (A+C)/D\n",
      "AC+D/\n"
     ]
    }
   ],
   "source": [
    "class Stack:\n",
    "    def __init__(self):\n",
    "        self.data = []\n",
    "        \n",
    "    def is_empty(self):\n",
    "        return len(self.data) == 0\n",
    "    \n",
    "    def push(self, item):\n",
    "        self.data.append(item)\n",
    "        \n",
    "    def pop(self):\n",
    "        return self.data.pop()\n",
    "    \n",
    "    def peek(self):\n",
    "        return self.data[-1]\n",
    "\n",
    "    \n",
    "priority = {'*' : 3, '/' : 3,\n",
    "            '+' : 2, '-' : 2,\n",
    "            '(' : 1}\n",
    "expr = []\n",
    "operator = Stack()\n",
    "result = []\n",
    "tmp = input(\"식을 입력하세요: \")\n",
    "\n",
    "for i in tmp:\n",
    "    if i == ' ':\n",
    "        continue\n",
    "    expr.append(i)\n",
    "\n",
    "for i in expr:\n",
    "    if i =='(':\n",
    "        operator.push(i)\n",
    "        \n",
    "    elif i in '+-*/':\n",
    "        if operator.is_empty():\n",
    "            operator.push(i)\n",
    "        else:\n",
    "            if priority[operator.peek()] >= priority[i]:\n",
    "                result.append(operator.pop())\n",
    "                operator.push(i)\n",
    "            else:\n",
    "                operator.push(i)\n",
    "    elif i == ')':\n",
    "        while True:\n",
    "            tmp = operator.pop()\n",
    "            if tmp =='(':\n",
    "                break\n",
    "            result.append(tmp)\n",
    "    else:\n",
    "        result.append(i)\n",
    "\n",
    "while not(operator.is_empty()):\n",
    "    result.append(operator.pop())\n",
    "\n",
    "print(''.join(result))"
   ]
  },
  {
   "cell_type": "code",
   "execution_count": null,
   "metadata": {},
   "outputs": [],
   "source": []
  }
 ],
 "metadata": {
  "kernelspec": {
   "display_name": "Python 3",
   "language": "python",
   "name": "python3"
  }
 },
 "nbformat": 4,
 "nbformat_minor": 4
}
