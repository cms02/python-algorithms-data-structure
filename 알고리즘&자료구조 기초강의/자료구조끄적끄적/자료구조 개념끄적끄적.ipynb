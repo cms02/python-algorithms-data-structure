{
 "cells": [
  {
   "cell_type": "code",
   "execution_count": 5,
   "metadata": {},
   "outputs": [
    {
     "name": "stdout",
     "output_type": "stream",
     "text": [
      "[0, 0, 0]\n"
     ]
    }
   ],
   "source": [
    "#1 array\n",
    "size = 3\n",
    "arr =[0] * size\n",
    "print(arr)"
   ]
  },
  {
   "cell_type": "code",
   "execution_count": 10,
   "metadata": {},
   "outputs": [
    {
     "name": "stdout",
     "output_type": "stream",
     "text": [
      "20\n",
      "20\n",
      "0 20\n",
      "1 20\n"
     ]
    }
   ],
   "source": [
    "#2 list\n",
    "arr =[]\n",
    "arr.append(10)\n",
    "arr.append(20)\n",
    "arr.remove(10)\n",
    "arr.append(20)\n",
    "\n",
    "for num in arr:\n",
    "    print(num)\n",
    "    \n",
    "for i, num in enumerate(arr):\n",
    "    print(i,num)"
   ]
  },
  {
   "cell_type": "code",
   "execution_count": 21,
   "metadata": {},
   "outputs": [
    {
     "name": "stdout",
     "output_type": "stream",
     "text": [
      "{10, 30}\n",
      "10\n",
      "30\n",
      "True\n"
     ]
    }
   ],
   "source": [
    "#3 hash set\n",
    "s = set()\n",
    "s.add(10)\n",
    "s.add(20)\n",
    "s.add(30)\n",
    "s.remove(20)\n",
    "print(s)\n",
    "\n",
    "for num in s:\n",
    "    print(num)\n",
    "    \n",
    "print(10 in s)"
   ]
  },
  {
   "cell_type": "code",
   "execution_count": 28,
   "metadata": {},
   "outputs": [
    {
     "name": "stdout",
     "output_type": "stream",
     "text": [
      "{'a': 100, 'b': 200}\n",
      "100\n",
      "100\n",
      "None\n",
      "True\n",
      "a\n",
      "b\n",
      "100\n",
      "200\n",
      "('a', 100)\n",
      "('b', 200)\n",
      "2\n"
     ]
    }
   ],
   "source": [
    "#4 hash map\n",
    "m = dict()\n",
    "m['a'] = 100\n",
    "m['b'] = 200\n",
    "print(m)\n",
    "print(m.get('a'))\n",
    "print(m['a'])\n",
    "print(m.get('c'))\n",
    "#print(m['C'])  >> None이 아닌 Error 뜸\n",
    "print('a' in m)\n",
    "\n",
    "for k in m.keys():\n",
    "    print(k)\n",
    "    \n",
    "for k in m.values():\n",
    "    print(k)   \n",
    "    \n",
    "for k in m.items():\n",
    "    print(k)\n",
    "    \n",
    "print(len(m))"
   ]
  },
  {
   "cell_type": "code",
   "execution_count": 30,
   "metadata": {},
   "outputs": [
    {
     "name": "stdout",
     "output_type": "stream",
     "text": [
      "30\n",
      "20\n",
      "10\n"
     ]
    }
   ],
   "source": [
    "#5 Stack\n",
    "s = [] # same as list\n",
    "\n",
    "s.append(10)\n",
    "s.append(20)\n",
    "s.append(30) #append is same as push in stack!\n",
    "\n",
    "while s:\n",
    "    print(s.pop())"
   ]
  },
  {
   "cell_type": "code",
   "execution_count": 33,
   "metadata": {},
   "outputs": [
    {
     "name": "stdout",
     "output_type": "stream",
     "text": [
      "1\n",
      "2\n",
      "3\n",
      "10\n",
      "20\n",
      "30\n"
     ]
    }
   ],
   "source": [
    "#6 Queue\n",
    "\n",
    "from collections import deque\n",
    "\n",
    "q = deque([1,2,3])\n",
    "q.append(10)\n",
    "q.append(20)\n",
    "q.append(30)\n",
    "\n",
    "while q:\n",
    "    print(q.popleft())"
   ]
  },
  {
   "cell_type": "code",
   "execution_count": 41,
   "metadata": {},
   "outputs": [
    {
     "name": "stdout",
     "output_type": "stream",
     "text": [
      "[1, 3, 2, 6, 4, 10, 7]\n",
      "1\n",
      "2\n",
      "3\n",
      "4\n",
      "6\n",
      "7\n",
      "10\n",
      "1\n",
      "3\n",
      "5\n",
      "7\n",
      "10\n",
      "[]\n"
     ]
    }
   ],
   "source": [
    "#7 heap\n",
    "import heapq\n",
    "\n",
    "arr = [10,4, 2, 6, 3, 1, 7]\n",
    "heapq.heapify(arr)\n",
    "print(arr)\n",
    "while arr:\n",
    "    print(heapq.heappop(arr))\n",
    "\n",
    "arr=[]\n",
    "heapq.heappush(arr,10)\n",
    "heapq.heappush(arr,3)\n",
    "heapq.heappush(arr,7)\n",
    "heapq.heappush(arr,1)\n",
    "heapq.heappush(arr,5)\n",
    "\n",
    "while arr:\n",
    "    print(heapq.heappop(arr))\n",
    "print(arr)\n"
   ]
  },
  {
   "cell_type": "code",
   "execution_count": 45,
   "metadata": {},
   "outputs": [
    {
     "name": "stdout",
     "output_type": "stream",
     "text": [
      "10\n"
     ]
    }
   ],
   "source": [
    "#8 binary tree\n",
    "class Node:\n",
    "    left = None\n",
    "    right = None\n",
    "    def __init__(self, val):\n",
    "        self.val = val\n",
    "    def __str__(self):\n",
    "        return f'node: {self.val}'\n",
    "n1 = Node(10)\n",
    "n2 = Node(5)\n",
    "n1.left = n2\n",
    "print(n1.val)"
   ]
  },
  {
   "cell_type": "code",
   "execution_count": 50,
   "metadata": {},
   "outputs": [
    {
     "name": "stdout",
     "output_type": "stream",
     "text": [
      "[[(0, 0), (0, 0), (0, 0), (0, 0), (0, 0)], [(0, 0), (0, 0), (0, 0), (0, 0), (0, 0)], [(0, 0), (0, 0), (0, 0), (0, 0), (0, 0)]]\n",
      "{0: [(1, 1), (1, 2), (1, 4)], 1: [(0, 1), (1, 3)]}\n"
     ]
    }
   ],
   "source": [
    "#9 graph\n",
    "\n",
    "#1) matrix\n",
    "row = 3\n",
    "col = 5\n",
    "g = [[(0,0)] * col for _ in range(row)]\n",
    "print(g)\n",
    "\n",
    "#2) with list\n",
    "\n",
    "g = {}\n",
    "g[0] = [(1,1),(1,2),(1,4)]\n",
    "g[1] = [(0,1),(1,3)]\n",
    "print(g)"
   ]
  }
 ],
 "metadata": {
  "kernelspec": {
   "display_name": "Python 3",
   "language": "python",
   "name": "python3"
  },
  "language_info": {
   "codemirror_mode": {
    "name": "ipython",
    "version": 3
   },
   "file_extension": ".py",
   "mimetype": "text/x-python",
   "name": "python",
   "nbconvert_exporter": "python",
   "pygments_lexer": "ipython3",
   "version": "3.8.5"
  }
 },
 "nbformat": 4,
 "nbformat_minor": 4
}
